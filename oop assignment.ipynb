{
 "cells": [
  {
   "cell_type": "markdown",
   "id": "1020b165",
   "metadata": {},
   "source": [
    "# Question 1: Person Class"
   ]
  },
  {
   "cell_type": "code",
   "execution_count": null,
   "id": "a23eb944",
   "metadata": {},
   "outputs": [],
   "source": [
    "class Person:\n",
    "    def __init__(self, name, age, country):\n",
    "        self.name = name\n",
    "        self.age = age\n",
    "        self.country = country\n",
    "    \n",
    "    def display_details(self):\n",
    "        print(f'Name: {self.name}, Age: {self.age}, Country: {self.country}')\n",
    "\n",
    "# Create two instances and display their details\n",
    "person1 = Person('Alice', 30, 'USA')\n",
    "person2 = Person('Bob', 25, 'Canada')\n",
    "person1.display_details()\n",
    "person2.display_details()"
   ]
  },
  {
   "cell_type": "markdown",
   "id": "41e361bd",
   "metadata": {},
   "source": [
    "# Question 2: Rectangle Class"
   ]
  },
  {
   "cell_type": "code",
   "execution_count": null,
   "id": "2f861e20",
   "metadata": {},
   "outputs": [],
   "source": [
    "class Rectangle:\n",
    "    def __init__(self, width, height):\n",
    "        self.width = width\n",
    "        self.height = height\n",
    "    \n",
    "    def calculate_area(self):\n",
    "        return self.width * self.height\n",
    "    \n",
    "    def calculate_perimeter(self):\n",
    "        return 2 * (self.width + self.height)\n",
    "\n",
    "# Create an instance and calculate area and perimeter\n",
    "rect = Rectangle(10, 5)\n",
    "print('Area:', rect.calculate_area())\n",
    "print('Perimeter:', rect.calculate_perimeter())"
   ]
  },
  {
   "cell_type": "markdown",
   "id": "30bf2cd9",
   "metadata": {},
   "source": [
    "# Question 3: Vehicle and Car Classes"
   ]
  },
  {
   "cell_type": "code",
   "execution_count": null,
   "id": "42242933",
   "metadata": {},
   "outputs": [],
   "source": [
    "class Vehicle:\n",
    "    def __init__(self, make, model, year):\n",
    "        self.make = make\n",
    "        self.model = model\n",
    "        self.year = year\n",
    "    \n",
    "    def display_details(self):\n",
    "        print(f'Make: {self.make}, Model: {self.model}, Year: {self.year}')\n",
    "\n",
    "class Car(Vehicle):\n",
    "    def __init__(self, make, model, year, doors):\n",
    "        super().__init__(make, model, year)\n",
    "        self.doors = doors\n",
    "    \n",
    "    def display_details(self):\n",
    "        super().display_details()\n",
    "        print(f'Doors: {self.doors}')\n",
    "\n",
    "# Create an instance of Car and display details\n",
    "car = Car('Toyota', 'Corolla', 2020, 4)\n",
    "car.display_details()"
   ]
  },
  {
   "cell_type": "markdown",
   "id": "0e7e3968",
   "metadata": {},
   "source": [
    "# Question 4: BankAccount Class"
   ]
  },
  {
   "cell_type": "code",
   "execution_count": null,
   "id": "679af07c",
   "metadata": {},
   "outputs": [],
   "source": [
    "class BankAccount:\n",
    "    def __init__(self, account_number, balance):\n",
    "        self.account_number = account_number\n",
    "        self.balance = balance\n",
    "    \n",
    "    def deposit(self, amount):\n",
    "        self.balance += amount\n",
    "        print(f'Deposited: {amount}, New Balance: {self.balance}')\n",
    "    \n",
    "    def withdraw(self, amount):\n",
    "        if amount <= self.balance:\n",
    "            self.balance -= amount\n",
    "            print(f'Withdrawn: {amount}, New Balance: {self.balance}')\n",
    "        else:\n",
    "            print('Insufficient balance')\n",
    "\n",
    "# Create instances and perform operations\n",
    "account1 = BankAccount('12345', 1000)\n",
    "account1.deposit(500)\n",
    "account1.withdraw(300)"
   ]
  },
  {
   "cell_type": "markdown",
   "id": "ca3631df",
   "metadata": {},
   "source": [
    "# Question 5: Shape, Circle, and Triangle Classes"
   ]
  },
  {
   "cell_type": "code",
   "execution_count": null,
   "id": "7c6f8926",
   "metadata": {},
   "outputs": [],
   "source": [
    "class Shape:\n",
    "    def calculate_area(self):\n",
    "        pass\n",
    "\n",
    "class Circle(Shape):\n",
    "    def __init__(self, radius):\n",
    "        self.radius = radius\n",
    "    \n",
    "    def calculate_area(self):\n",
    "        return 3.14 * self.radius * self.radius\n",
    "\n",
    "class Triangle(Shape):\n",
    "    def __init__(self, base, height):\n",
    "        self.base = base\n",
    "        self.height = height\n",
    "    \n",
    "    def calculate_area(self):\n",
    "        return 0.5 * self.base * self.height\n",
    "\n",
    "# Create instances and calculate areas\n",
    "circle = Circle(5)\n",
    "print('Circle Area:', circle.calculate_area())\n",
    "triangle = Triangle(10, 5)\n",
    "print('Triangle Area:', triangle.calculate_area())"
   ]
  },
  {
   "cell_type": "markdown",
   "id": "65fb1d01",
   "metadata": {},
   "source": [
    "# Question 6: Employee and Manager Classes"
   ]
  },
  {
   "cell_type": "code",
   "execution_count": null,
   "id": "63e6e6f2",
   "metadata": {},
   "outputs": [],
   "source": [
    "class Employee:\n",
    "    def __init__(self, name, salary):\n",
    "        self.name = name\n",
    "        self.salary = salary\n",
    "    \n",
    "    def calculate_annual_salary(self):\n",
    "        return self.salary * 12\n",
    "\n",
    "class Manager(Employee):\n",
    "    def __init__(self, name, salary, department):\n",
    "        super().__init__(name, salary)\n",
    "        self.department = department\n",
    "    \n",
    "    def calculate_annual_salary(self):\n",
    "        return (self.salary * 12) + 5000  # Bonus\n",
    "\n",
    "# Create instances and calculate annual salary\n",
    "manager1 = Manager('Alice', 7000, 'IT')\n",
    "manager2 = Manager('Bob', 8000, 'HR')\n",
    "print('Manager 1 Annual Salary:', manager1.calculate_annual_salary())\n",
    "print('Manager 2 Annual Salary:', manager2.calculate_annual_salary())"
   ]
  },
  {
   "cell_type": "markdown",
   "id": "ccbde60d",
   "metadata": {},
   "source": [
    "# Question 7: Book and Ebook Classes"
   ]
  },
  {
   "cell_type": "code",
   "execution_count": null,
   "id": "385659c8",
   "metadata": {},
   "outputs": [],
   "source": [
    "class Book:\n",
    "    def __init__(self, title, author, publication_year):\n",
    "        self.title = title\n",
    "        self.author = author\n",
    "        self.publication_year = publication_year\n",
    "    \n",
    "    def display_details(self):\n",
    "        print(f'Title: {self.title}, Author: {self.author}, Year: {self.publication_year}')\n",
    "\n",
    "class Ebook(Book):\n",
    "    def __init__(self, title, author, publication_year, price):\n",
    "        super().__init__(title, author, publication_year)\n",
    "        self.price = price\n",
    "    \n",
    "    def display_details(self):\n",
    "        super().display_details()\n",
    "        print(f'Price: {self.price}')\n",
    "\n",
    "# Create an instance of Ebook and display details\n",
    "ebook = Ebook('Python Programming', 'John Doe', 2022, 29.99)\n",
    "ebook.display_details()"
   ]
  },
  {
   "cell_type": "markdown",
   "id": "790b328d",
   "metadata": {},
   "source": [
    "# Question 8: Animal and Dog Classes"
   ]
  },
  {
   "cell_type": "code",
   "execution_count": null,
   "id": "68467288",
   "metadata": {},
   "outputs": [],
   "source": [
    "class Animal:\n",
    "    def __init__(self, species, sound):\n",
    "        self.species = species\n",
    "        self.sound = sound\n",
    "    \n",
    "    def make_sound(self):\n",
    "        print(f'The {self.species} says {self.sound}')\n",
    "\n",
    "class Dog(Animal):\n",
    "    def __init__(self, species, sound, color):\n",
    "        super().__init__(species, sound)\n",
    "        self.color = color\n",
    "    \n",
    "    def make_sound(self):\n",
    "        print(f'The {self.color} dog says {self.sound}')\n",
    "\n",
    "# Create an instance of Dog and make it make its sound\n",
    "dog = Dog('Dog', 'Woof', 'Brown')\n",
    "dog.make_sound()"
   ]
  },
  {
   "cell_type": "markdown",
   "id": "2abee64c",
   "metadata": {},
   "source": [
    "# Question 9: Bank Class"
   ]
  },
  {
   "cell_type": "code",
   "execution_count": null,
   "id": "1e4eb0cf",
   "metadata": {},
   "outputs": [],
   "source": [
    "class Bank:\n",
    "    def __init__(self, bank_name):\n",
    "        self.bank_name = bank_name\n",
    "        self.branches = []\n",
    "    \n",
    "    def add_branch(self, branch):\n",
    "        self.branches.append(branch)\n",
    "        print(f'Branch {branch} added.')\n",
    "    \n",
    "    def remove_branch(self, branch):\n",
    "        if branch in self.branches:\n",
    "            self.branches.remove(branch)\n",
    "            print(f'Branch {branch} removed.')\n",
    "        else:\n",
    "            print('Branch not found.')\n",
    "    \n",
    "    def display_branches(self):\n",
    "        print(f'Branches of {self.bank_name}: {self.branches}')\n",
    "\n",
    "# Create an instance and perform operations\n",
    "bank = Bank('Global Bank')\n",
    "bank.add_branch('New York')\n",
    "bank.add_branch('Los Angeles')\n",
    "bank.display_branches()\n",
    "bank.remove_branch('Los Angeles')\n",
    "bank.display_branches()"
   ]
  },
  {
   "cell_type": "markdown",
   "id": "40f1f066",
   "metadata": {},
   "source": [
    "# Question 10: Product and PersonalCareProduct Classes"
   ]
  },
  {
   "cell_type": "code",
   "execution_count": null,
   "id": "7f2d41d5",
   "metadata": {},
   "outputs": [],
   "source": [
    "class Product:\n",
    "    def __init__(self, product_id, name, price):\n",
    "        self.product_id = product_id\n",
    "        self.name = name\n",
    "        self.price = price\n",
    "    \n",
    "    def calculate_total_price(self, quantity):\n",
    "        return self.price * quantity\n",
    "\n",
    "class PersonalCareProduct(Product):\n",
    "    def __init__(self, product_id, name, price, warranty):\n",
    "        super().__init__(product_id, name, price)\n",
    "        self.warranty = warranty\n",
    "    \n",
    "    def calculate_total_price(self, quantity):\n",
    "        return (self.price * quantity) + 10  # Warranty cost\n",
    "\n",
    "# Create an instance and calculate total price\n",
    "product = PersonalCareProduct('001', 'Shampoo', 10.99, 1)\n",
    "print('Total Price:', product.calculate_total_price(3))"
   ]
  },
  {
   "cell_type": "markdown",
   "id": "aaa74b88",
   "metadata": {},
   "source": [
    "# Question 11: BankAccount with Transfers"
   ]
  },
  {
   "cell_type": "code",
   "execution_count": null,
   "id": "275706a6",
   "metadata": {},
   "outputs": [],
   "source": [
    "class BankAccount:\n",
    "    def __init__(self, account_number, holder_name, balance):\n",
    "        self.account_number = account_number\n",
    "        self.holder_name = holder_name\n",
    "        self.balance = balance\n",
    "    \n",
    "    def deposit(self, amount):\n",
    "        self.balance += amount\n",
    "        print(f'Deposited: {amount}, New Balance: {self.balance}')\n",
    "    \n",
    "    def withdraw(self, amount):\n",
    "        if amount <= self.balance:\n",
    "            self.balance -= amount\n",
    "            print(f'Withdrawn: {amount}, New Balance: {self.balance}')\n",
    "        else:\n",
    "            print('Insufficient balance')\n",
    "    \n",
    "    def transfer(self, amount, target_account):\n",
    "        if amount <= self.balance:\n",
    "            self.balance -= amount\n",
    "            target_account.balance += amount\n",
    "            print(f'Transferred {amount} to {target_account.holder_name}')\n",
    "        else:\n",
    "            print('Insufficient balance')\n",
    "\n",
    "# Create instances and perform operations\n",
    "account1 = BankAccount('12345', 'Alice', 1000)\n",
    "account2 = BankAccount('67890', 'Bob', 500)\n",
    "account1.transfer(200, account2)\n",
    "print('Account 1 Balance:', account1.balance)\n",
    "print('Account 2 Balance:', account2.balance)"
   ]
  },
  {
   "cell_type": "markdown",
   "id": "c663ab7f",
   "metadata": {},
   "source": [
    "# Question 12: University Class"
   ]
  },
  {
   "cell_type": "code",
   "execution_count": null,
   "id": "f7bf8380",
   "metadata": {},
   "outputs": [],
   "source": [
    "class University:\n",
    "    def __init__(self, name):\n",
    "        self.name = name\n",
    "        self.departments = []\n",
    "    \n",
    "    def add_department(self, department):\n",
    "        self.departments.append(department)\n",
    "        print(f'Department {department} added.')\n",
    "    \n",
    "    def remove_department(self, department):\n",
    "        if department in self.departments:\n",
    "            self.departments.remove(department)\n",
    "            print(f'Department {department} removed.')\n",
    "        else:\n",
    "            print('Department not found.')\n",
    "    \n",
    "    def display_departments(self):\n",
    "        print(f'Departments at {self.name}: {self.departments}')\n",
    "\n",
    "# Create an instance and perform operations\n",
    "university = University('Global University')\n",
    "university.add_department('Computer Science')\n",
    "university.add_department('Mathematics')\n",
    "university.display_departments()\n",
    "university.remove_department('Mathematics')\n",
    "university.display_departments()"
   ]
  }
 ],
 "metadata": {
  "kernelspec": {
   "display_name": "Python 3 (ipykernel)",
   "language": "python",
   "name": "python3"
  },
  "language_info": {
   "codemirror_mode": {
    "name": "ipython",
    "version": 3
   },
   "file_extension": ".py",
   "mimetype": "text/x-python",
   "name": "python",
   "nbconvert_exporter": "python",
   "pygments_lexer": "ipython3",
   "version": "3.12.7"
  }
 },
 "nbformat": 4,
 "nbformat_minor": 5
}
