{
 "cells": [
  {
   "cell_type": "markdown",
   "id": "5969238a-8ce6-4117-a63a-b5f2f41989ee",
   "metadata": {},
   "source": [
    "# 1. Count and Display the Number of Vowels in a String"
   ]
  },
  {
   "cell_type": "code",
   "execution_count": null,
   "id": "6e377483-88c0-4f1d-91b5-d8bf31748241",
   "metadata": {},
   "outputs": [],
   "source": [
    "string = input(\"Enter a string: \")\n",
    "vowels = \"aeiouAEIOU\"\n",
    "vowel_count = 0\n",
    "\n",
    "for char in string:\n",
    "    if char in vowels:\n",
    "        vowel_count += 1\n",
    "\n",
    "print(f\"Number of vowels: {vowel_count}\")"
   ]
  },
  {
   "cell_type": "markdown",
   "id": "a84d1e63-4130-45ff-b033-70a7a6cbeef1",
   "metadata": {},
   "source": [
    "# 2. Display Counts for Uppercase, Lowercase, Digits, and Whitespaces"
   ]
  },
  {
   "cell_type": "code",
   "execution_count": null,
   "id": "3e59ebaf-cfd7-4f6d-b619-046ac2bcc235",
   "metadata": {},
   "outputs": [],
   "source": [
    "string = input(\"Enter a string: \")\n",
    "upper_count = 0\n",
    "lower_count = 0\n",
    "digit_count = 0\n",
    "space_count = 0\n",
    "\n",
    "for char in string:\n",
    "    if 'A' <= char <= 'Z':\n",
    "        upper_count += 1\n",
    "    elif 'a' <= char <= 'z':\n",
    "        lower_count += 1\n",
    "    elif '0' <= char <= '9':\n",
    "        digit_count += 1\n",
    "    elif char == ' ':\n",
    "        space_count += 1\n",
    "\n",
    "print(f\"Uppercase Letters: {upper_count}\")\n",
    "print(f\"Lowercase Letters: {lower_count}\")\n",
    "print(f\"Digits: {digit_count}\")\n",
    "print(f\"Whitespaces: {space_count}\")\n"
   ]
  },
  {
   "cell_type": "markdown",
   "id": "7d00cce9-b693-4e3f-9cca-f35dcea2103e",
   "metadata": {},
   "source": [
    "# 3. Swap First and Last Characters"
   ]
  },
  {
   "cell_type": "code",
   "execution_count": null,
   "id": "b3caf92c-4c27-4490-98ab-8f330adb45cb",
   "metadata": {},
   "outputs": [],
   "source": [
    "string = input(\"Enter a string: \")\n",
    "\n",
    "if len(string) > 1:\n",
    "    new_string = string[-1] + string[1:-1] + string[0]\n",
    "else:\n",
    "    new_string = string\n",
    "\n",
    "print(f\"Modified String: {new_string}\")"
   ]
  },
  {
   "cell_type": "markdown",
   "id": "6281dddb-fa35-4bcd-9f54-cd412a68dc7a",
   "metadata": {},
   "source": [
    "# 4. Reverse the String"
   ]
  },
  {
   "cell_type": "code",
   "execution_count": null,
   "id": "5aa4197c-765e-43f4-8763-1bcee42b7b2a",
   "metadata": {},
   "outputs": [],
   "source": [
    "string = input(\"Enter a string: \")\n",
    "reversed_string = \"\"\n",
    "\n",
    "for char in string:\n",
    "    reversed_string = char + reversed_string\n",
    "\n",
    "print(f\"Reversed String: {reversed_string}\")"
   ]
  },
  {
   "cell_type": "markdown",
   "id": "c3fad780-f8bc-480e-b28a-7ea3668e425d",
   "metadata": {},
   "source": [
    "# 5. Shift Characters One Position to the Left"
   ]
  },
  {
   "cell_type": "code",
   "execution_count": null,
   "id": "f13e3325-18a3-4a35-876f-cb59f2bcb4ad",
   "metadata": {},
   "outputs": [],
   "source": [
    "string = input(\"Enter a string: \")\n",
    "\n",
    "if len(string) > 1:\n",
    "    shifted_string = string[1:] + string[0]\n",
    "else:\n",
    "    shifted_string = string\n",
    "\n",
    "print(f\"Shifted String: {shifted_string}\")"
   ]
  },
  {
   "cell_type": "markdown",
   "id": "f1a10454-4d27-4451-9383-82c54ec86052",
   "metadata": {},
   "source": [
    "# 6. Display Initials from Full Name"
   ]
  },
  {
   "cell_type": "code",
   "execution_count": null,
   "id": "43259213-5cbd-445c-af53-a5c145c5a9c7",
   "metadata": {},
   "outputs": [],
   "source": [
    "name = input(\"Enter your full name (First Middle Last): \")\n",
    "initials = \"\"\n",
    "\n",
    "for i in range(len(name)):\n",
    "    if i == 0 or name[i - 1] == ' ':\n",
    "        initials += name[i].upper() + \". \"\n",
    "\n",
    "print(f\"Initials: {initials.strip()}\")"
   ]
  },
  {
   "cell_type": "markdown",
   "id": "b069d6ec-88e1-4c22-b9ac-a3bb7ba9b15b",
   "metadata": {},
   "source": [
    "# 7. Check if the String is a Palindrome"
   ]
  },
  {
   "cell_type": "code",
   "execution_count": null,
   "id": "7972ff34-f957-49b2-8c6a-f66325f2d120",
   "metadata": {},
   "outputs": [],
   "source": [
    "string = input(\"Enter a string: \")\n",
    "is_palindrome = True\n",
    "\n",
    "for i in range(len(string) // 2):\n",
    "    if string[i] != string[-(i + 1)]:\n",
    "        is_palindrome = False\n",
    "        break\n",
    "\n",
    "if is_palindrome:\n",
    "    print(\"The string is a palindrome.\")\n",
    "else:\n",
    "    print(\"The string is not a palindrome.\")"
   ]
  },
  {
   "cell_type": "markdown",
   "id": "b3e7b50a-1564-4103-a688-d24835d40dfc",
   "metadata": {},
   "source": [
    "# 8. Display Rotations of the Word \"SHIFT\""
   ]
  },
  {
   "cell_type": "code",
   "execution_count": null,
   "id": "5bd3fd4e-39cd-4921-8dd1-4b8d11e30f0f",
   "metadata": {},
   "outputs": [],
   "source": [
    "string = \"SHIFT\"\n",
    "\n",
    "for i in range(len(string)):\n",
    "    rotated_string = string[i:] + string[:i]\n",
    "    print(rotated_string)"
   ]
  },
  {
   "cell_type": "markdown",
   "id": "984eae31-c4ec-4a8d-84de-f4e7e365d156",
   "metadata": {},
   "source": [
    "# 9. Validate a Password"
   ]
  },
  {
   "cell_type": "code",
   "execution_count": null,
   "id": "94573abc-a4df-43ff-83a6-a88e0aee44bd",
   "metadata": {},
   "outputs": [],
   "source": [
    "password = input(\"Enter your password: \")\n",
    "\n",
    "has_upper = False\n",
    "has_lower = False\n",
    "has_digit = False\n",
    "is_valid_length = len(password) >= 8\n",
    "\n",
    "for char in password:\n",
    "    if 'A' <= char <= 'Z':\n",
    "        has_upper = True\n",
    "    elif 'a' <= char <= 'z':\n",
    "        has_lower = True\n",
    "    elif '0' <= char <= '9':\n",
    "        has_digit = True\n",
    "\n",
    "if is_valid_length and has_upper and has_lower and has_digit:\n",
    "    print(\"Password is valid.\")\n",
    "else:\n",
    "    print(\"Password is invalid. It must be at least 8 characters long, contain at least one uppercase letter, one lowercase letter, and one digit.\")"
   ]
  },
  {
   "cell_type": "code",
   "execution_count": null,
   "id": "ef7bc2b2-794b-4c7d-aa02-7d1b45a43683",
   "metadata": {},
   "outputs": [],
   "source": []
  }
 ],
 "metadata": {
  "kernelspec": {
   "display_name": "Python 3 (ipykernel)",
   "language": "python",
   "name": "python3"
  },
  "language_info": {
   "codemirror_mode": {
    "name": "ipython",
    "version": 3
   },
   "file_extension": ".py",
   "mimetype": "text/x-python",
   "name": "python",
   "nbconvert_exporter": "python",
   "pygments_lexer": "ipython3",
   "version": "3.12.7"
  }
 },
 "nbformat": 4,
 "nbformat_minor": 5
}
