{
 "cells": [
  {
   "cell_type": "code",
   "execution_count": 1,
   "id": "87a4a217",
   "metadata": {},
   "outputs": [
    {
     "name": "stdout",
     "output_type": "stream",
     "text": [
      "2002,2009,2016,2023,2037,2044,2051,2058,2072,2079,2086,2093,2107,2114,2121,2128,2142,2149,2156,2163,2177,2184,2191,2198,2212,2219,2226,2233,2247,2254,2261,2268,2282,2289,2296,2303,2317,2324,2331,2338,2352,2359,2366,2373,2387,2394,2401,2408,2422,2429,2436,2443,2457,2464,2471,2478,2492,2499,2506,2513,2527,2534,2541,2548,2562,2569,2576,2583,2597,2604,2611,2618,2632,2639,2646,2653,2667,2674,2681,2688,2702,2709,2716,2723,2737,2744,2751,2758,2772,2779,2786,2793,2807,2814,2821,2828,2842,2849,2856,2863,2877,2884,2891,2898,2912,2919,2926,2933,2947,2954,2961,2968,2982,2989,2996,3003,3017,3024,3031,3038,3052,3059,3066,3073,3087,3094,3101,3108,3122,3129,3136,3143,3157,3164,3171,3178,3192,3199\n"
     ]
    }
   ],
   "source": [
    "\n",
    "import math\n",
    "\n",
    "# Task 1\n",
    "def find_numbers_divisible_by_7_not_5():\n",
    "    result = []\n",
    "    for i in range(2000, 3201):\n",
    "        if i % 7 == 0 and i % 5 != 0:\n",
    "            result.append(str(i))\n",
    "    return \",\".join(result)\n",
    "\n",
    "print(find_numbers_divisible_by_7_not_5())"
   ]
  },
  {
   "cell_type": "code",
   "execution_count": 3,
   "id": "88efc1ea",
   "metadata": {},
   "outputs": [
    {
     "name": "stdout",
     "output_type": "stream",
     "text": [
      "5,4,4\n"
     ]
    }
   ],
   "source": [
    "\n",
    "# Task 2\n",
    "def calculate_formula(c_values):\n",
    "    A, B = 50, 30\n",
    "    c_list = c_values.split(\",\")\n",
    "    results = []\n",
    "    for C in c_list:\n",
    "        C = int(C)\n",
    "        result = int(math.sqrt((2 * A * B) / C))\n",
    "        results.append(str(result))\n",
    "    return \",\".join(results)\n",
    "\n",
    "print(calculate_formula(\"100,150,180\"))\n"
   ]
  },
  {
   "cell_type": "code",
   "execution_count": 5,
   "id": "d5344c9c",
   "metadata": {},
   "outputs": [
    {
     "name": "stdout",
     "output_type": "stream",
     "text": [
      "bag,hello,without,world\n"
     ]
    }
   ],
   "source": [
    "\n",
    "# Task 3\n",
    "def sort_words_alphabetically(input_words):\n",
    "    words = input_words.split(\",\")\n",
    "    for i in range(len(words)):\n",
    "        for j in range(i + 1, len(words)):\n",
    "            if words[i] > words[j]:\n",
    "                words[i], words[j] = words[j], words[i]\n",
    "    return \",\".join(words)\n",
    "\n",
    "print(sort_words_alphabetically(\"without,hello,bag,world\"))\n"
   ]
  },
  {
   "cell_type": "code",
   "execution_count": 19,
   "id": "0a8cb819",
   "metadata": {},
   "outputs": [
    {
     "name": "stdout",
     "output_type": "stream",
     "text": [
      "HELLO WORLD\n",
      "PRACTICE MAKES PERFECT\n"
     ]
    }
   ],
   "source": [
    "\n",
    "# Task 4\n",
    "def capitalize_lines(input_lines):\n",
    "    lines = input_lines.splitlines()\n",
    "    capitalized = []\n",
    "    for line in lines:\n",
    "        capitalized_line = \"\"\n",
    "        for char in line:\n",
    "            if 'a' <= char <= 'z':\n",
    "                capitalized_line += chr(ord(char) - 32)\n",
    "            else:\n",
    "\n",
    "                capitalized_line += char\n",
    "        capitalized.append(capitalized_line)\n",
    "    return \"\\n\".join(capitalized)\n",
    "\n",
    "print(capitalize_lines(\"Hello world\\nPractice makes perfect\"))\n"
   ]
  },
  {
   "cell_type": "code",
   "execution_count": 9,
   "id": "0faa00b7",
   "metadata": {},
   "outputs": [
    {
     "name": "stdout",
     "output_type": "stream",
     "text": [
      "a appeared 2 times\n",
      "e appeared 5 times\n",
      "i appeared 1 times\n",
      "o appeared 2 times\n",
      "u appeared 0 times\n"
     ]
    }
   ],
   "source": [
    "\n",
    "# Task 5\n",
    "def count_vowels(sentence):\n",
    "    vowels = \"aeiou\"\n",
    "    counts = {}\n",
    "    for vowel in vowels:\n",
    "        count = 0\n",
    "        for char in sentence.lower():\n",
    "            if char == vowel:\n",
    "                count += 1\n",
    "        counts[vowel] = count\n",
    "    result = []\n",
    "    for vowel in vowels:\n",
    "        result.append(f\"{vowel} appeared {counts[vowel]} times\")\n",
    "    return \"\\n\".join(result)\n",
    "\n",
    "print(count_vowels(\"Hello world\\nPractice makes perfect\"))\n"
   ]
  },
  {
   "cell_type": "code",
   "execution_count": 21,
   "id": "3c4430be",
   "metadata": {},
   "outputs": [
    {
     "name": "stdout",
     "output_type": "stream",
     "text": [
      "[2000, 2002, 2004, 2006, 2008, 2020, 2022, 2024, 2026, 2028, 2040, 2042, 2044, 2046, 2048, 2060, 2062, 2064, 2066, 2068, 2080, 2082, 2084, 2086, 2088, 2200, 2202, 2204, 2206, 2208, 2220, 2222, 2224, 2226, 2228, 2240, 2242, 2244, 2246, 2248, 2260, 2262, 2264, 2266, 2268, 2280, 2282, 2284, 2286, 2288, 2400, 2402, 2404, 2406, 2408, 2420, 2422, 2424, 2426, 2428, 2440, 2442, 2444, 2446, 2448, 2460, 2462, 2464, 2466, 2468, 2480, 2482, 2484, 2486, 2488, 2600, 2602, 2604, 2606, 2608, 2620, 2622, 2624, 2626, 2628, 2640, 2642, 2644, 2646, 2648, 2660, 2662, 2664, 2666, 2668, 2680, 2682, 2684, 2686, 2688, 2800, 2802, 2804, 2806, 2808, 2820, 2822, 2824, 2826, 2828, 2840, 2842, 2844, 2846, 2848, 2860, 2862, 2864, 2866, 2868, 2880, 2882, 2884, 2886, 2888]\n"
     ]
    }
   ],
   "source": [
    "\n",
    "# Task 6\n",
    "def find_numbers_with_even_digits():\n",
    "    result = []\n",
    "    for number in range(1000, 3001):\n",
    "        is_even = True\n",
    "        for digit in str(number):\n",
    "            if int(digit) % 2 != 0:\n",
    "                is_even = False\n",
    "                break\n",
    "        if is_even:\n",
    "            \n",
    "            result.append(number)\n",
    "            \n",
    "    return result\n",
    "\n",
    "print(find_numbers_with_even_digits())\n"
   ]
  },
  {
   "cell_type": "code",
   "execution_count": 15,
   "id": "9b25e3ae",
   "metadata": {},
   "outputs": [
    {
     "name": "stdout",
     "output_type": "stream",
     "text": [
      "1010\n"
     ]
    }
   ],
   "source": [
    "\n",
    "# Task 7\n",
    "def binary_divisible_by_5(binary_numbers):\n",
    "    binaries = binary_numbers.split(\",\")\n",
    "    divisible = []\n",
    "    for binary in binaries:\n",
    "        decimal_value = 0\n",
    "        power = 0\n",
    "        for bit in binary[::-1]:\n",
    "            decimal_value += int(bit) * (2 ** power)\n",
    "            power += 1\n",
    "        if decimal_value % 5 == 0:\n",
    "            divisible.append(binary)\n",
    "    return \",\".join(divisible)\n",
    "\n",
    "print(binary_divisible_by_5(\"0100,0011,1010,1001\"))\n"
   ]
  },
  {
   "cell_type": "code",
   "execution_count": 17,
   "id": "6cc7cd4d",
   "metadata": {},
   "outputs": [
    {
     "name": "stdout",
     "output_type": "stream",
     "text": [
      "LETTERS 10\n",
      "DIGITS 3\n"
     ]
    }
   ],
   "source": [
    "\n",
    "# Task 8\n",
    "def calculate_letters_and_digits(sentence):\n",
    "    letters = 0\n",
    "    digits = 0\n",
    "    for char in sentence:\n",
    "        if 'a' <= char <= 'z' or 'A' <= char <= 'Z':\n",
    "            letters += 1\n",
    "        elif '0' <= char <= '9':\n",
    "            digits += 1\n",
    "    return f\"LETTERS {letters}\\nDIGITS {digits}\"\n",
    "\n",
    "print(calculate_letters_and_digits(\"hello world! 123\"))\n"
   ]
  },
  {
   "cell_type": "code",
   "execution_count": null,
   "id": "94145c2d-c1dd-4798-a795-6a839c30f2e0",
   "metadata": {},
   "outputs": [],
   "source": []
  }
 ],
 "metadata": {
  "kernelspec": {
   "display_name": "Python 3 (ipykernel)",
   "language": "python",
   "name": "python3"
  },
  "language_info": {
   "codemirror_mode": {
    "name": "ipython",
    "version": 3
   },
   "file_extension": ".py",
   "mimetype": "text/x-python",
   "name": "python",
   "nbconvert_exporter": "python",
   "pygments_lexer": "ipython3",
   "version": "3.12.7"
  }
 },
 "nbformat": 4,
 "nbformat_minor": 5
}
