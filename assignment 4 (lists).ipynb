{
 "cells": [
  {
   "cell_type": "markdown",
   "id": "09ff19a6",
   "metadata": {},
   "source": [
    "# 1. Alternate Elements of List"
   ]
  },
  {
   "cell_type": "code",
   "execution_count": null,
   "id": "76e069de",
   "metadata": {},
   "outputs": [],
   "source": [
    "user_input = input(\"Enter a list of elements separated by space: \")\n",
    "lst = user_input.split()\n",
    "print(\"Alternate elements of the list:\", lst[::2])"
   ]
  },
  {
   "cell_type": "markdown",
   "id": "00184665",
   "metadata": {},
   "source": [
    "# 2. Reverse List Without Using reverse()"
   ]
  },
  {
   "cell_type": "code",
   "execution_count": null,
   "id": "f765d6e2",
   "metadata": {},
   "outputs": [],
   "source": [
    "user_input = input(\"Enter a list of elements separated by space: \")\n",
    "lst = user_input.split()\n",
    "reversed_lst = lst[::-1]\n",
    "print(\"Reversed list:\", reversed_lst)"
   ]
  },
  {
   "cell_type": "markdown",
   "id": "6de19346",
   "metadata": {},
   "source": [
    "# 3. Find Largest Number Without max()"
   ]
  },
  {
   "cell_type": "code",
   "execution_count": null,
   "id": "befdbf12",
   "metadata": {},
   "outputs": [],
   "source": [
    "user_input = input(\"Enter a list of numbers separated by space: \")\n",
    "lst = list(map(int, user_input.split()))\n",
    "largest = lst[0]\n",
    "for num in lst:\n",
    "    if num > largest:\n",
    "        largest = num\n",
    "print(\"Largest number in the list:\", largest)"
   ]
  },
  {
   "cell_type": "markdown",
   "id": "f9ed5b77",
   "metadata": {},
   "source": [
    "# 4. Rotate List Elements"
   ]
  },
  {
   "cell_type": "code",
   "execution_count": null,
   "id": "0b7c5f38",
   "metadata": {},
   "outputs": [],
   "source": [
    "user_input = input(\"Enter a list of elements separated by space: \")\n",
    "lst = user_input.split()\n",
    "rotated_lst = lst[1:] + lst[:1]\n",
    "print(\"Rotated list:\", rotated_lst)"
   ]
  },
  {
   "cell_type": "markdown",
   "id": "ae4470fd",
   "metadata": {},
   "source": [
    "# 5. Delete a Word from String"
   ]
  },
  {
   "cell_type": "code",
   "execution_count": null,
   "id": "30f3b3a6",
   "metadata": {},
   "outputs": [],
   "source": [
    "user_input = input(\"Enter a string: \")\n",
    "word_to_delete = input(\"Enter the word to delete: \")\n",
    "result = ' '.join(word for word in user_input.split() if word != word_to_delete)\n",
    "print(\"String after deleting the word:\", result)"
   ]
  },
  {
   "cell_type": "markdown",
   "id": "bf60aa8f",
   "metadata": {},
   "source": [
    "# 6. Format Date String"
   ]
  },
  {
   "cell_type": "code",
   "execution_count": null,
   "id": "2d0220a6",
   "metadata": {},
   "outputs": [],
   "source": [
    "user_input = input(\"Enter a date in mm/dd/yyyy format: \")\n",
    "months = [\"January\", \"February\", \"March\", \"April\", \"May\", \"June\",\n",
    "          \"July\", \"August\", \"September\", \"October\", \"November\", \"December\"]\n",
    "mm, dd, yyyy = map(int, user_input.split('/'))\n",
    "print(f\"Formatted date: {months[mm-1]} {dd}, {yyyy}\")"
   ]
  },
  {
   "cell_type": "markdown",
   "id": "c7c5ce4e",
   "metadata": {},
   "source": [
    "# 7. Capitalize Words in a String"
   ]
  },
  {
   "cell_type": "code",
   "execution_count": null,
   "id": "3c0b092a",
   "metadata": {},
   "outputs": [],
   "source": [
    "user_input = input(\"Enter a sentence: \")\n",
    "result = ' '.join(word.capitalize() for word in user_input.split())\n",
    "print(\"Capitalized string:\", result)"
   ]
  },
  {
   "cell_type": "markdown",
   "id": "5b8d956f",
   "metadata": {},
   "source": [
    "# 8. Sum of Each Row in Matrix"
   ]
  },
  {
   "cell_type": "code",
   "execution_count": null,
   "id": "406fb8b0",
   "metadata": {},
   "outputs": [],
   "source": [
    "m = int(input(\"Enter number of rows: \"))\n",
    "n = int(input(\"Enter number of columns: \"))\n",
    "matrix = []\n",
    "for i in range(m):\n",
    "    row = list(map(int, input(f\"Enter row {i+1} elements separated by space: \").split()))\n",
    "    matrix.append(row)\n",
    "\n",
    "for i, row in enumerate(matrix):\n",
    "    row_sum = sum(row)\n",
    "    print(f\"Sum of row {i+1} =\", row_sum)"
   ]
  },
  {
   "cell_type": "markdown",
   "id": "8b0c0d49",
   "metadata": {},
   "source": [
    "# 9. Add Two Matrices"
   ]
  },
  {
   "cell_type": "code",
   "execution_count": null,
   "id": "39e606c4",
   "metadata": {},
   "outputs": [],
   "source": [
    "m = int(input(\"Enter number of rows: \"))\n",
    "n = int(input(\"Enter number of columns: \"))\n",
    "print(\"Enter elements of first matrix:\")\n",
    "matrix1 = [[int(input()) for _ in range(n)] for _ in range(m)]\n",
    "print(\"Enter elements of second matrix:\")\n",
    "matrix2 = [[int(input()) for _ in range(n)] for _ in range(m)]\n",
    "\n",
    "result = [[matrix1[i][j] + matrix2[i][j] for j in range(n)] for i in range(m)]\n",
    "print(\"Resultant matrix after addition:\")\n",
    "for row in result:\n",
    "    print(row)"
   ]
  },
  {
   "cell_type": "markdown",
   "id": "fd56e73c",
   "metadata": {},
   "source": [
    "# 10. Multiply Two Matrices"
   ]
  },
  {
   "cell_type": "code",
   "execution_count": null,
   "id": "efc09909",
   "metadata": {},
   "outputs": [],
   "source": [
    "m = int(input(\"Enter number of rows of first matrix: \"))\n",
    "n = int(input(\"Enter number of columns of first matrix (and rows of second): \"))\n",
    "p = int(input(\"Enter number of columns of second matrix: \"))\n",
    "\n",
    "print(\"Enter elements of first matrix:\")\n",
    "matrix1 = [[int(input()) for _ in range(n)] for _ in range(m)]\n",
    "print(\"Enter elements of second matrix:\")\n",
    "matrix2 = [[int(input()) for _ in range(p)] for _ in range(n)]\n",
    "\n",
    "result = [[0 for _ in range(p)] for _ in range(m)]\n",
    "\n",
    "for i in range(m):\n",
    "    for j in range(p):\n",
    "        for k in range(n):\n",
    "            result[i][j] += matrix1[i][k] * matrix2[k][j]\n",
    "\n",
    "print(\"Resultant matrix after multiplication:\")\n",
    "for row in result:\n",
    "    print(row)"
   ]
  }
 ],
 "metadata": {
  "kernelspec": {
   "display_name": "Python 3 (ipykernel)",
   "language": "python",
   "name": "python3"
  },
  "language_info": {
   "codemirror_mode": {
    "name": "ipython",
    "version": 3
   },
   "file_extension": ".py",
   "mimetype": "text/x-python",
   "name": "python",
   "nbconvert_exporter": "python",
   "pygments_lexer": "ipython3",
   "version": "3.12.7"
  }
 },
 "nbformat": 4,
 "nbformat_minor": 5
}
