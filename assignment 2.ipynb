{
 "cells": [
  {
   "cell_type": "markdown",
   "id": "fdd3b7c2-c793-4da6-a766-cdf91f80cc67",
   "metadata": {},
   "source": [
    "# Area of Rectangle"
   ]
  },
  {
   "cell_type": "code",
   "execution_count": 8,
   "id": "3e00c4a8-eea1-4dfb-ae87-c971020beac3",
   "metadata": {},
   "outputs": [
    {
     "name": "stdin",
     "output_type": "stream",
     "text": [
      "enter the lentgh of rectangle  30\n",
      "Enter the width of the recrtangle 30\n"
     ]
    }
   ],
   "source": [
    "length =int(input(\"enter the lentgh of rectangle \"))\n",
    "width = int(input(\"Enter the width of the recrtangle\"))"
   ]
  },
  {
   "cell_type": "code",
   "execution_count": 9,
   "id": "2efbf9c7-397c-414d-ab6c-3df1fe14fef9",
   "metadata": {},
   "outputs": [],
   "source": [
    "area = length*width"
   ]
  },
  {
   "cell_type": "code",
   "execution_count": 10,
   "id": "94adf57d-6ef0-429e-bf42-64ecd425d17c",
   "metadata": {},
   "outputs": [
    {
     "name": "stdout",
     "output_type": "stream",
     "text": [
      " area of rectanlge is : 900\n"
     ]
    }
   ],
   "source": [
    "print(f\" area of rectanlge is : {area}\")"
   ]
  },
  {
   "cell_type": "markdown",
   "id": "afa07c48-a4fb-489c-99dd-08a5ac489476",
   "metadata": {},
   "source": [
    "# circumference of a circle"
   ]
  },
  {
   "cell_type": "code",
   "execution_count": 11,
   "id": "04c573dd-c8dc-4564-aeed-6b33a2de72f3",
   "metadata": {},
   "outputs": [
    {
     "name": "stdin",
     "output_type": "stream",
     "text": [
      "enter the radius of a circle 10\n"
     ]
    }
   ],
   "source": [
    "radius= int(input(\"enter the radius of a circle\"))"
   ]
  },
  {
   "cell_type": "code",
   "execution_count": 13,
   "id": "1c3a1ab6-59ff-4cc8-aae2-11bb10acaf91",
   "metadata": {},
   "outputs": [],
   "source": [
    "circumference=2*3.14*radius"
   ]
  },
  {
   "cell_type": "code",
   "execution_count": 14,
   "id": "b17dd67d-e07f-4895-b336-1bc447598b07",
   "metadata": {},
   "outputs": [
    {
     "name": "stdout",
     "output_type": "stream",
     "text": [
      "circumference is : 62.800000000000004\n"
     ]
    }
   ],
   "source": [
    "print(f\"circumference is : {circumference}\")"
   ]
  },
  {
   "cell_type": "markdown",
   "id": "4fb5de73-452e-4f39-965b-5ac36c615d8a",
   "metadata": {},
   "source": [
    "# simple interest"
   ]
  },
  {
   "cell_type": "code",
   "execution_count": 3,
   "id": "dc1e6fdf-a8c7-4a56-810b-23bb6d14a4a9",
   "metadata": {},
   "outputs": [
    {
     "name": "stdin",
     "output_type": "stream",
     "text": [
      "enter the rate 7\n",
      "enter time 12\n",
      "what is the principal 1000\n"
     ]
    }
   ],
   "source": [
    "rate = int(input(\"enter the rate\"))\n",
    "time = int(input(\"enter time\"))\n",
    "principal = int(input(\"what is the principal\"))"
   ]
  },
  {
   "cell_type": "code",
   "execution_count": 4,
   "id": "bf67a01c-6d1c-4e51-bcc2-8b5de8e78e8a",
   "metadata": {},
   "outputs": [],
   "source": [
    "interest = rate*principal/time"
   ]
  },
  {
   "cell_type": "code",
   "execution_count": 5,
   "id": "4855784d-fbb0-4963-8a45-2584e29b4bb8",
   "metadata": {},
   "outputs": [
    {
     "name": "stdout",
     "output_type": "stream",
     "text": [
      "your total interest will be : 583.3333333333334\n"
     ]
    }
   ],
   "source": [
    "print(f\"your total interest will be : {interest}\")"
   ]
  },
  {
   "cell_type": "markdown",
   "id": "e2421cae-a7a2-49f6-8e75-da26ae6f6385",
   "metadata": {},
   "source": [
    "# calculate speed "
   ]
  },
  {
   "cell_type": "code",
   "execution_count": 10,
   "id": "25e316e7-2f75-4c22-a898-a7775d9261dd",
   "metadata": {},
   "outputs": [
    {
     "name": "stdin",
     "output_type": "stream",
     "text": [
      "enter distance in meter 200\n",
      "enter time in sec  60\n"
     ]
    },
    {
     "name": "stdout",
     "output_type": "stream",
     "text": [
      "speed is 3.3333333333333335 m/s2\n"
     ]
    }
   ],
   "source": [
    "d = float(input(\"enter distance in meter\"))\n",
    "t = float(input(\"enter time in sec \"))\n",
    "speed = d/t\n",
    "print(f\"speed is {speed} m/s2\")"
   ]
  },
  {
   "cell_type": "markdown",
   "id": "8d38fdf4-0800-4405-a3be-69c89230222b",
   "metadata": {},
   "source": [
    "# BMI calculator"
   ]
  },
  {
   "cell_type": "code",
   "execution_count": 11,
   "id": "5aaa2e8a-7266-4c68-aff2-5d840db31ecf",
   "metadata": {},
   "outputs": [
    {
     "name": "stdin",
     "output_type": "stream",
     "text": [
      "enter weight in kg's 50\n",
      "enter your height in meters 1.7\n"
     ]
    },
    {
     "name": "stdout",
     "output_type": "stream",
     "text": [
      "17.301038062283737\n"
     ]
    }
   ],
   "source": [
    "weight= float(input(\"enter weight in kg's\"))\n",
    "height= float(input(\"enter your height in meters\"))\n",
    "bmi = weight/height**2\n",
    "print(bmi)"
   ]
  },
  {
   "cell_type": "markdown",
   "id": "775eac9b-133a-4850-aa00-1afc9a2cd77f",
   "metadata": {},
   "source": [
    "# Force"
   ]
  },
  {
   "cell_type": "code",
   "execution_count": 15,
   "id": "7d1673e9-a4a8-4801-93e8-1881e0ae18c8",
   "metadata": {},
   "outputs": [
    {
     "name": "stdin",
     "output_type": "stream",
     "text": [
      "what is the mass in kg's 10\n",
      "enter acceleration in meters/second² 500\n"
     ]
    },
    {
     "name": "stdout",
     "output_type": "stream",
     "text": [
      "5000.0\n"
     ]
    }
   ],
   "source": [
    "m = float(input(\"what is the mass in kg's\"))\n",
    "a= float(input(\"enter acceleration in meters/second²\"))\n",
    "f = m *a\n",
    "print(f)"
   ]
  },
  {
   "cell_type": "markdown",
   "id": "a1bef206-30f9-4c79-ac82-539b941dbe68",
   "metadata": {},
   "source": [
    "# compound interest"
   ]
  },
  {
   "cell_type": "code",
   "execution_count": 19,
   "id": "642c2a14-4de7-4fbf-a80e-59417266bb3b",
   "metadata": {},
   "outputs": [
    {
     "name": "stdin",
     "output_type": "stream",
     "text": [
      "what is the principal amount 10000\n",
      "enter annual interest rate 12\n",
      "enter number of times interest is compounded per year 3\n",
      "enter time in years 3\n"
     ]
    }
   ],
   "source": [
    "p = float(input(\"what is the principal amount\"))\n",
    "r= float(input(\"enter annual interest rate\"))\n",
    "n= float(input(\"enter number of times interest is compounded per year\"))\n",
    "t = float(input(\"enter time in years\"))\n",
    "c=r/n\n",
    "d=n-t\n",
    "a= p*(1+c)**d"
   ]
  },
  {
   "cell_type": "code",
   "execution_count": 20,
   "id": "9f609cca-2c3d-472a-a0b5-362c1036b260",
   "metadata": {},
   "outputs": [
    {
     "name": "stdout",
     "output_type": "stream",
     "text": [
      "10000.0\n"
     ]
    }
   ],
   "source": [
    "print(a)"
   ]
  },
  {
   "cell_type": "markdown",
   "id": "3a1c80d4-5e57-4415-87c3-de35b7a52698",
   "metadata": {},
   "source": [
    "# perimeter of a triangle "
   ]
  },
  {
   "cell_type": "code",
   "execution_count": 22,
   "id": "6cc8ad1e-b475-4f17-b1cc-35cb312876ff",
   "metadata": {},
   "outputs": [
    {
     "name": "stdin",
     "output_type": "stream",
     "text": [
      "enter the length of first side of a triangle  3\n",
      "enter the length of second side of triangle  3\n",
      "enter the length of third side of a triangle  3\n"
     ]
    },
    {
     "name": "stdout",
     "output_type": "stream",
     "text": [
      "9.0\n"
     ]
    }
   ],
   "source": [
    "a=float(input(\"enter the length of first side of a triangle \"))\n",
    "b=float(input(\"enter the length of second side of triangle \"))\n",
    "c=float(input(\"enter the length of third side of a triangle \"))\n",
    "p = a+b+c\n",
    "print(p)"
   ]
  },
  {
   "cell_type": "markdown",
   "id": "b8de2384-f446-408d-9944-c5527aca8221",
   "metadata": {},
   "source": [
    "# 9. volume of sphere"
   ]
  },
  {
   "cell_type": "code",
   "execution_count": 25,
   "id": "246595e5-e23f-40c4-86b4-eb08145670ab",
   "metadata": {},
   "outputs": [
    {
     "name": "stdin",
     "output_type": "stream",
     "text": [
      "enter radius of a sphere 3\n"
     ]
    }
   ],
   "source": [
    "r= float(input(\"enter radius of a sphere\"))\n",
    "pi=3.14\n",
    "v= 4/3*pi*r**3"
   ]
  },
  {
   "cell_type": "code",
   "execution_count": 26,
   "id": "a29fda85-3112-45bc-bfbf-811189a58d65",
   "metadata": {},
   "outputs": [
    {
     "name": "stdout",
     "output_type": "stream",
     "text": [
      "113.03999999999999\n"
     ]
    }
   ],
   "source": [
    "print(v)"
   ]
  },
  {
   "cell_type": "markdown",
   "id": "f5908a7b-5932-445e-80c2-f25d391e838a",
   "metadata": {},
   "source": [
    "# 10.) Kinetic Energy ⛮ ⚡ :"
   ]
  },
  {
   "cell_type": "code",
   "execution_count": 31,
   "id": "94e25531-af4b-41d3-8669-5a4e4e6a733c",
   "metadata": {},
   "outputs": [
    {
     "name": "stdin",
     "output_type": "stream",
     "text": [
      "enter mass in kgs 3\n",
      "enter velocity in meter/sec 60\n"
     ]
    },
    {
     "name": "stdout",
     "output_type": "stream",
     "text": [
      "5400.0\n"
     ]
    }
   ],
   "source": [
    "m=float(input(\"enter mass in kgs\"))\n",
    "v=float(input(\"enter velocity in meter/sec\"))\n",
    "KE= (1/2)*m*v**2\n",
    "print(KE)"
   ]
  },
  {
   "cell_type": "markdown",
   "id": "cece81a3-92d6-41e0-b2b2-f64612aee4e0",
   "metadata": {},
   "source": [
    "# 11) Quadratic Equation Roots"
   ]
  },
  {
   "cell_type": "code",
   "execution_count": 33,
   "id": "5d7938b5-4103-4d27-b1f7-fccf7c475fec",
   "metadata": {},
   "outputs": [
    {
     "name": "stdin",
     "output_type": "stream",
     "text": [
      "enter the vlaue of a :  10\n",
      "enter the vlaue of b :  -10\n",
      "enter the vlaue of c :  20\n"
     ]
    }
   ],
   "source": [
    "a=float(input(\"enter the vlaue of a : \"))\n",
    "b=float(input(\"enter the vlaue of b : \"))\n",
    "c=float(input(\"enter the vlaue of c : \"))\n",
    "d=b**2-4*a*c\n",
    "e=d**1/2\n",
    "x1= (-b-e)/2*a\n",
    "x2=(-b+e)/2*a\n",
    "X={x1,x2}"
   ]
  },
  {
   "cell_type": "code",
   "execution_count": 34,
   "id": "3bc97e27-6e1d-4c4f-83d9-627df5a6e2ca",
   "metadata": {},
   "outputs": [
    {
     "name": "stdout",
     "output_type": "stream",
     "text": [
      "{1800.0, -1700.0}\n"
     ]
    }
   ],
   "source": [
    "print(X)"
   ]
  },
  {
   "cell_type": "markdown",
   "id": "cb7ddc18-067e-4eb5-84cc-63274bf33f18",
   "metadata": {},
   "source": [
    "# temperature conversion celsius to fahrenheit"
   ]
  },
  {
   "cell_type": "code",
   "execution_count": 35,
   "id": "09cec491-9e77-470d-a920-81e529160c8e",
   "metadata": {},
   "outputs": [
    {
     "name": "stdin",
     "output_type": "stream",
     "text": [
      "enter temperature in celsius 35\n"
     ]
    },
    {
     "name": "stdout",
     "output_type": "stream",
     "text": [
      "95.0\n"
     ]
    }
   ],
   "source": [
    "c= int(input(\"enter temperature in celsius\"))\n",
    "f= (9/5)*c +32\n",
    "print(f)"
   ]
  },
  {
   "cell_type": "markdown",
   "id": "109dfc4a-01e0-451b-a88e-383d409507aa",
   "metadata": {},
   "source": [
    "# 13) Gravitational Force:"
   ]
  },
  {
   "cell_type": "code",
   "execution_count": 38,
   "id": "255f67bb-de5d-4e45-a0a8-d8e2473774dc",
   "metadata": {},
   "outputs": [
    {
     "name": "stdin",
     "output_type": "stream",
     "text": [
      "enter mass 1 1000\n",
      "enter mass 2 2000\n",
      "enter distance between the two centres of the object 200\n"
     ]
    },
    {
     "name": "stdout",
     "output_type": "stream",
     "text": [
      "34349999999999996766191616\n"
     ]
    }
   ],
   "source": [
    "m1=float(input(\"enter mass 1\"))\n",
    "m2=float(input(\"enter mass 2\"))\n",
    "r=float(input(\"enter distance between the two centres of the object\"))\n",
    "G= 6.7*10**-11\n",
    "m= m1*m2\n",
    "F=G*(m/r**2)\n",
    "print(int(F))"
   ]
  },
  {
   "cell_type": "markdown",
   "id": "2d7b29f4-fbac-4d3e-beca-63beac4a8341",
   "metadata": {},
   "source": [
    "# 14) Volume of a Cylinder:"
   ]
  },
  {
   "cell_type": "code",
   "execution_count": 3,
   "id": "4aac14c3-099b-446a-8ea2-7bf9cc8cf1a0",
   "metadata": {},
   "outputs": [
    {
     "name": "stdin",
     "output_type": "stream",
     "text": [
      "enter the value of radius 3\n",
      "enter the value of height 3\n"
     ]
    },
    {
     "name": "stdout",
     "output_type": "stream",
     "text": [
      "84.78\n"
     ]
    }
   ],
   "source": [
    "r=float(input(\"enter the value of radius\"))\n",
    "h=float(input(\"enter the value of height\"))\n",
    "pi= 3.14\n",
    "volume= pi*(r**2)*h\n",
    "print(volume)"
   ]
  },
  {
   "cell_type": "markdown",
   "id": "76cff7c2-9f51-42ae-9582-21b841104aeb",
   "metadata": {},
   "source": [
    "# 15) Pressure:"
   ]
  },
  {
   "cell_type": "code",
   "execution_count": 4,
   "id": "7b1701f3-d8ce-48ab-a550-545e96ba8573",
   "metadata": {},
   "outputs": [
    {
     "name": "stdin",
     "output_type": "stream",
     "text": [
      "enter the force 3.55\n",
      "enter area 5.6\n"
     ]
    },
    {
     "name": "stdout",
     "output_type": "stream",
     "text": [
      "0.6339285714285714\n"
     ]
    }
   ],
   "source": [
    "f=float(input(\"enter the force\"))\n",
    "a= float(input(\"enter area\"))\n",
    "p=f/a\n",
    "print(p)"
   ]
  },
  {
   "cell_type": "markdown",
   "id": "6126c816-ac71-4763-95ca-c40cac709dd4",
   "metadata": {},
   "source": [
    "# 16) Electric Power:"
   ]
  },
  {
   "cell_type": "code",
   "execution_count": 6,
   "id": "25155dbc-c8a1-4b3c-b282-d0ddf7cec08a",
   "metadata": {},
   "outputs": [
    {
     "name": "stdin",
     "output_type": "stream",
     "text": [
      "enter voltage 220\n",
      "enter the current 2\n"
     ]
    },
    {
     "name": "stdout",
     "output_type": "stream",
     "text": [
      "110.0\n"
     ]
    }
   ],
   "source": [
    "v=int(input(\"enter voltage\"))\n",
    "i=int(input('enter the current'))\n",
    "p=v/i\n",
    "print(p)"
   ]
  },
  {
   "cell_type": "markdown",
   "id": "d89e32e0-4271-4f31-ab72-ff3d3f7ee1f7",
   "metadata": {},
   "source": [
    "# 17) Perimeter of a Circle (Circumference): \n"
   ]
  },
  {
   "cell_type": "code",
   "execution_count": 7,
   "id": "53f5dc06-d696-41db-a830-e44814995f72",
   "metadata": {},
   "outputs": [
    {
     "name": "stdin",
     "output_type": "stream",
     "text": [
      "enter the value of radius 20\n"
     ]
    },
    {
     "name": "stdout",
     "output_type": "stream",
     "text": [
      "125.60000000000001\n"
     ]
    }
   ],
   "source": [
    "r=float(input(\"enter the value of radius\"))\n",
    "p=pi*2*r\n",
    "print(p)"
   ]
  },
  {
   "cell_type": "markdown",
   "id": "7ccb9c9d-e3f1-40f0-8ce9-3aaad7171509",
   "metadata": {},
   "source": [
    "# 18) Future Value in Savings:"
   ]
  },
  {
   "cell_type": "code",
   "execution_count": 8,
   "id": "88b9219a-9dce-4e88-8814-fb5d367d1aec",
   "metadata": {},
   "outputs": [
    {
     "name": "stdin",
     "output_type": "stream",
     "text": [
      "enter present value 1000\n",
      "enter annual enterest rate as a decimal 7.5\n",
      "enter time in years 1\n"
     ]
    },
    {
     "name": "stdout",
     "output_type": "stream",
     "text": [
      "1000.0\n"
     ]
    }
   ],
   "source": [
    "pv=float(input(\"enter present value\"))\n",
    "r=float(input(\"enter annual enterest rate as a decimal\"))\n",
    "t=int(input(\"enter time in years\"))\n",
    "m=1+r\n",
    "n=(1+r)**t\n",
    "fv=pv\n",
    "print(fv)"
   ]
  },
  {
   "cell_type": "markdown",
   "id": "735fddf8-ae20-4b10-b4ae-08b95dfbb92c",
   "metadata": {},
   "source": [
    "# 19) Work Done by a Force:\n"
   ]
  },
  {
   "cell_type": "code",
   "execution_count": 9,
   "id": "752e41a9-50a9-4f59-a2b1-eeb9d06801dd",
   "metadata": {},
   "outputs": [
    {
     "name": "stdin",
     "output_type": "stream",
     "text": [
      "enter force 20\n",
      "enter distance 30\n",
      "enter angle between force and direction of movement (in degrees)  60\n"
     ]
    },
    {
     "name": "stdout",
     "output_type": "stream",
     "text": [
      "300.00000000000006\n"
     ]
    }
   ],
   "source": [
    "import math\n",
    "\n",
    "f=float(input(\"enter force\"))\n",
    "d=float(input(\"enter distance\"))\n",
    "\n",
    "theta_degrees=float(input(\"enter angle between force and direction of movement (in degrees) \"))\n",
    "\n",
    "theta_radians=math.radians(theta_degrees)\n",
    "\n",
    "w=f*d*math.cos(theta_radians) # because cos() take in radians\n",
    "\n",
    "print(w)\n",
    "\n"
   ]
  },
  {
   "cell_type": "markdown",
   "id": "f814678c-78fb-46f3-984b-30f9f9da2383",
   "metadata": {},
   "source": [
    "# 20) Heat Transfer:"
   ]
  },
  {
   "cell_type": "code",
   "execution_count": 11,
   "id": "fcf1f2b5-b4fb-41ec-94d0-3e1fcd3c2ee8",
   "metadata": {},
   "outputs": [
    {
     "name": "stdin",
     "output_type": "stream",
     "text": [
      "enter mass in kgs 10\n",
      "enter heat capacity 20\n"
     ]
    },
    {
     "name": "stdout",
     "output_type": "stream",
     "text": [
      "200\n"
     ]
    }
   ],
   "source": [
    "#where:\n",
    "#Q= heat transfer\n",
    "#m = mass\n",
    "#c = specific heat capacity \n",
    "#ΔT\n",
    "m=int(input(\"enter mass in kgs\"))\n",
    "c=int(input(\"enter heat capacity\"))\n",
    "Q=m*c\n",
    "print(Q)"
   ]
  },
  {
   "cell_type": "code",
   "execution_count": null,
   "id": "dca25b4a-0b86-46c6-a364-2832cb78ad9a",
   "metadata": {},
   "outputs": [],
   "source": []
  }
 ],
 "metadata": {
  "kernelspec": {
   "display_name": "Python 3 (ipykernel)",
   "language": "python",
   "name": "python3"
  },
  "language_info": {
   "codemirror_mode": {
    "name": "ipython",
    "version": 3
   },
   "file_extension": ".py",
   "mimetype": "text/x-python",
   "name": "python",
   "nbconvert_exporter": "python",
   "pygments_lexer": "ipython3",
   "version": "3.12.7"
  }
 },
 "nbformat": 4,
 "nbformat_minor": 5
}
