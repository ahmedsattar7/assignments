{
 "cells": [
  {
   "cell_type": "markdown",
   "id": "1304c6bb",
   "metadata": {},
   "source": [
    "## 1. Print numbers from 1 to 10 using a for loop"
   ]
  },
  {
   "cell_type": "code",
   "execution_count": null,
   "id": "9606f46a",
   "metadata": {},
   "outputs": [],
   "source": [
    "for i in range(1, 11):\n",
    "    print(i)"
   ]
  },
  {
   "cell_type": "markdown",
   "id": "b06f3557",
   "metadata": {},
   "source": [
    "## 2. Print numbers from 20 to 1 using a while loop"
   ]
  },
  {
   "cell_type": "code",
   "execution_count": null,
   "id": "dd2183c7",
   "metadata": {},
   "outputs": [],
   "source": [
    "i = 20\n",
    "while i >= 1:\n",
    "    print(i)\n",
    "    i -= 1"
   ]
  },
  {
   "cell_type": "markdown",
   "id": "d49d92d6",
   "metadata": {},
   "source": [
    "## 3. Print even numbers from 1 to 10"
   ]
  },
  {
   "cell_type": "code",
   "execution_count": null,
   "id": "37bafc46",
   "metadata": {},
   "outputs": [],
   "source": [
    "for i in range(1, 11):\n",
    "    if i % 2 == 0:\n",
    "        print(i)"
   ]
  },
  {
   "cell_type": "markdown",
   "id": "5ff84bdd",
   "metadata": {},
   "source": [
    "## 4. Print numbers from 1 to n (user input)"
   ]
  },
  {
   "cell_type": "code",
   "execution_count": null,
   "id": "3a971896",
   "metadata": {},
   "outputs": [],
   "source": [
    "n = int(input(\"Enter a number: \"))\n",
    "for i in range(1, n + 1):\n",
    "    print(i)"
   ]
  },
  {
   "cell_type": "markdown",
   "id": "a8998685",
   "metadata": {},
   "source": [
    "## 5. Print odd numbers from 1 to n (user input)"
   ]
  },
  {
   "cell_type": "code",
   "execution_count": null,
   "id": "9f65c222",
   "metadata": {},
   "outputs": [],
   "source": [
    "n = int(input(\"Enter a number: \"))\n",
    "for i in range(1, n + 1):\n",
    "    if i % 2 != 0:\n",
    "        print(i)"
   ]
  },
  {
   "cell_type": "markdown",
   "id": "aecb1876",
   "metadata": {},
   "source": [
    "## 6. Print 'Happy Birthday!' five times"
   ]
  },
  {
   "cell_type": "code",
   "execution_count": null,
   "id": "78449b2c",
   "metadata": {},
   "outputs": [],
   "source": [
    "for _ in range(5):\n",
    "    print(\"Happy Birthday!\")"
   ]
  },
  {
   "cell_type": "markdown",
   "id": "f9a3cac2",
   "metadata": {},
   "source": [
    "## 7. Generate first n terms of series of squares"
   ]
  },
  {
   "cell_type": "code",
   "execution_count": null,
   "id": "c498b556",
   "metadata": {},
   "outputs": [],
   "source": [
    "n = int(input(\"Enter a number: \"))\n",
    "print(f\"The first {n} terms of the series are:\")\n",
    "for i in range(1, n + 1):\n",
    "    print(i * i, end=\" \")"
   ]
  },
  {
   "cell_type": "markdown",
   "id": "34647af5",
   "metadata": {},
   "source": [
    "## 8. Print multiplication table of a number (user input)"
   ]
  },
  {
   "cell_type": "code",
   "execution_count": null,
   "id": "6a64358f",
   "metadata": {},
   "outputs": [],
   "source": [
    "n = int(input(\"Enter a number: \"))\n",
    "for i in range(1, 11):\n",
    "    print(f\"{n} x {i} = {n * i}\")"
   ]
  },
  {
   "cell_type": "markdown",
   "id": "7a1a326a",
   "metadata": {},
   "source": [
    "## 9. Print first 8 terms of an arithmetic progression"
   ]
  },
  {
   "cell_type": "code",
   "execution_count": null,
   "id": "0962d6e0",
   "metadata": {},
   "outputs": [],
   "source": [
    "start = 3\n",
    "difference = 4\n",
    "terms = 8\n",
    "for i in range(terms):\n",
    "    print(start + i * difference, end=\" \")"
   ]
  },
  {
   "cell_type": "markdown",
   "id": "ea850848",
   "metadata": {},
   "source": [
    "## 10. Print first 6 terms of a geometric sequence"
   ]
  },
  {
   "cell_type": "code",
   "execution_count": null,
   "id": "20abb2c5",
   "metadata": {},
   "outputs": [],
   "source": [
    "start = 2\n",
    "ratio = 3\n",
    "terms = 6\n",
    "for i in range(terms):\n",
    "    print(start * (ratio ** i), end=\" \")"
   ]
  },
  {
   "cell_type": "markdown",
   "id": "6d60d19f",
   "metadata": {},
   "source": [
    "## 11. Calculate sum of integers from 1 to n"
   ]
  },
  {
   "cell_type": "code",
   "execution_count": null,
   "id": "389a2d94",
   "metadata": {},
   "outputs": [],
   "source": [
    "n = int(input(\"Enter a positive integer: \"))\n",
    "total = 0\n",
    "for i in range(1, n + 1):\n",
    "    total += i\n",
    "print(f\"The sum of integers from 1 to {n} is: {total}\")"
   ]
  },
  {
   "cell_type": "markdown",
   "id": "55287d62",
   "metadata": {},
   "source": [
    "## 12. Calculate sum of reciprocals from 1 to N"
   ]
  },
  {
   "cell_type": "code",
   "execution_count": null,
   "id": "b5c7f765",
   "metadata": {},
   "outputs": [],
   "source": [
    "n = int(input(\"Enter a positive integer: \"))\n",
    "total = 0\n",
    "for i in range(1, n + 1):\n",
    "    total += 1 / i\n",
    "print(f\"The sum of reciprocals from 1 to {n} is: {total:.2f}\")"
   ]
  },
  {
   "cell_type": "markdown",
   "id": "96e44274",
   "metadata": {},
   "source": [
    "## 13. Accumulate numbers from user input (5 times)"
   ]
  },
  {
   "cell_type": "code",
   "execution_count": null,
   "id": "4eeaa02a",
   "metadata": {},
   "outputs": [],
   "source": [
    "total = 0\n",
    "for _ in range(5):\n",
    "    num = int(input(\"Enter a number: \"))\n",
    "    total += num\n",
    "print(f\"The final running total is: {total}\")"
   ]
  },
  {
   "cell_type": "markdown",
   "id": "4f1d1c7f",
   "metadata": {},
   "source": [
    "## 14. Calculate factorial of a positive integer"
   ]
  },
  {
   "cell_type": "code",
   "execution_count": null,
   "id": "920cbd0d",
   "metadata": {},
   "outputs": [],
   "source": [
    "n = int(input(\"Enter a positive integer: \"))\n",
    "if n < 0:\n",
    "    print(\"Factorial does not exist for negative numbers.\")\n",
    "elif n == 0:\n",
    "    print(\"The factorial of 0 is 1.\")\n",
    "else:\n",
    "    factorial = 1\n",
    "    for i in range(1, n + 1):\n",
    "        factorial *= i\n",
    "    print(f\"The factorial of {n} is: {factorial}\")"
   ]
  },
  {
   "cell_type": "markdown",
   "id": "62f037bc",
   "metadata": {},
   "source": [
    "## 15. Calculate power without using exponentiation operator"
   ]
  },
  {
   "cell_type": "code",
   "execution_count": null,
   "id": "252dc5ca",
   "metadata": {},
   "outputs": [],
   "source": [
    "base = int(input(\"Enter the base: \"))\n",
    "exponent = int(input(\"Enter the exponent: \"))\n",
    "result = 1\n",
    "\n",
    "if exponent == 0:\n",
    "    result = 1\n",
    "elif exponent > 0:\n",
    "    for _ in range(exponent):\n",
    "        result *= base\n",
    "else:\n",
    "    for _ in range(-exponent):\n",
    "        result *= base\n",
    "    result = 1 / result\n",
    "\n",
    "print(f\"The result of {base} raised to the power of {exponent} is: {result}\")"
   ]
  }
 ],
 "metadata": {
  "kernelspec": {
   "display_name": "Python 3 (ipykernel)",
   "language": "python",
   "name": "python3"
  },
  "language_info": {
   "codemirror_mode": {
    "name": "ipython",
    "version": 3
   },
   "file_extension": ".py",
   "mimetype": "text/x-python",
   "name": "python",
   "nbconvert_exporter": "python",
   "pygments_lexer": "ipython3",
   "version": "3.12.7"
  }
 },
 "nbformat": 4,
 "nbformat_minor": 5
}
