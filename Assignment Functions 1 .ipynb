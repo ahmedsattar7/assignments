{
 "cells": [
  {
   "cell_type": "markdown",
   "id": "655e0e16",
   "metadata": {},
   "source": [
    "### 1. Write a Python function to find the maximum of three numbers."
   ]
  },
  {
   "cell_type": "code",
   "execution_count": null,
   "id": "6c234c6f",
   "metadata": {},
   "outputs": [],
   "source": [
    "\n",
    "def find_maximum(a, b, c):\n",
    "    if a > b and a > c:\n",
    "        return a\n",
    "    elif b > c:\n",
    "        return b\n",
    "    else:\n",
    "        return c\n"
   ]
  },
  {
   "cell_type": "markdown",
   "id": "77e9130e",
   "metadata": {},
   "source": [
    "### 2. Write a Python function to sum all the numbers in a list."
   ]
  },
  {
   "cell_type": "code",
   "execution_count": null,
   "id": "eae28676",
   "metadata": {},
   "outputs": [],
   "source": [
    "\n",
    "def sum_list(lst):\n",
    "    total = 0\n",
    "    for num in lst:\n",
    "        total += num\n",
    "    return total\n"
   ]
  },
  {
   "cell_type": "markdown",
   "id": "9ef1e2d0",
   "metadata": {},
   "source": [
    "### 3. Write a Python function to multiply all the numbers in a list."
   ]
  },
  {
   "cell_type": "code",
   "execution_count": null,
   "id": "7a6bd001",
   "metadata": {},
   "outputs": [],
   "source": [
    "\n",
    "def multiply_list(lst):\n",
    "    result = 1\n",
    "    for num in lst:\n",
    "        result *= num\n",
    "    return result\n"
   ]
  },
  {
   "cell_type": "markdown",
   "id": "b1f03cbe",
   "metadata": {},
   "source": [
    "### 4. Write a Python program to reverse a string."
   ]
  },
  {
   "cell_type": "code",
   "execution_count": null,
   "id": "f95ef224",
   "metadata": {},
   "outputs": [],
   "source": [
    "\n",
    "def reverse_string(s):\n",
    "    reversed_s = \"\"\n",
    "    for char in s:\n",
    "        reversed_s = char + reversed_s\n",
    "    return reversed_s\n"
   ]
  },
  {
   "cell_type": "markdown",
   "id": "04cd8e82",
   "metadata": {},
   "source": [
    "### 5. Write a Python function to calculate the factorial of a number."
   ]
  },
  {
   "cell_type": "code",
   "execution_count": null,
   "id": "2a3d89f2",
   "metadata": {},
   "outputs": [],
   "source": [
    "\n",
    "def factorial(n):\n",
    "    if n == 0:\n",
    "        return 1\n",
    "    result = 1\n",
    "    for i in range(1, n + 1):\n",
    "        result *= i\n",
    "    return result\n"
   ]
  },
  {
   "cell_type": "markdown",
   "id": "10aa3bd6",
   "metadata": {},
   "source": [
    "### 6. Write a Python function to check whether a number falls within a given range."
   ]
  },
  {
   "cell_type": "code",
   "execution_count": null,
   "id": "3c79e341",
   "metadata": {},
   "outputs": [],
   "source": [
    "\n",
    "def is_in_range(num, start, end):\n",
    "    return start <= num <= end\n"
   ]
  },
  {
   "cell_type": "markdown",
   "id": "e7bcd304",
   "metadata": {},
   "source": [
    "### 7. Write a Python function to count the number of upper and lower case letters in a string."
   ]
  },
  {
   "cell_type": "code",
   "execution_count": null,
   "id": "2d7d5895",
   "metadata": {},
   "outputs": [],
   "source": [
    "\n",
    "def count_case(s):\n",
    "    upper_count = 0\n",
    "    lower_count = 0\n",
    "    for char in s:\n",
    "        if 'A' <= char <= 'Z':\n",
    "            upper_count += 1\n",
    "        elif 'a' <= char <= 'z':\n",
    "            lower_count += 1\n",
    "    return upper_count, lower_count\n"
   ]
  },
  {
   "cell_type": "markdown",
   "id": "e416fdea",
   "metadata": {},
   "source": [
    "### 8. Write a Python function that returns a new list with distinct elements from the first list."
   ]
  },
  {
   "cell_type": "code",
   "execution_count": null,
   "id": "29953c48",
   "metadata": {},
   "outputs": [],
   "source": [
    "\n",
    "def unique_elements(lst):\n",
    "    unique_lst = []\n",
    "    for item in lst:\n",
    "        if item not in unique_lst:\n",
    "            unique_lst.append(item)\n",
    "    return unique_lst\n"
   ]
  },
  {
   "cell_type": "markdown",
   "id": "b9b032c5",
   "metadata": {},
   "source": [
    "### 9. Write a Python function to check whether a number is prime or not."
   ]
  },
  {
   "cell_type": "code",
   "execution_count": null,
   "id": "46587f30",
   "metadata": {},
   "outputs": [],
   "source": [
    "\n",
    "def is_prime(n):\n",
    "    if n <= 1:\n",
    "        return False\n",
    "    for i in range(2, n):\n",
    "        if n % i == 0:\n",
    "            return False\n",
    "    return True\n"
   ]
  },
  {
   "cell_type": "markdown",
   "id": "facef308",
   "metadata": {},
   "source": [
    "### 10. Write a Python program to print the even numbers from a given list."
   ]
  },
  {
   "cell_type": "code",
   "execution_count": null,
   "id": "3cedbb45",
   "metadata": {},
   "outputs": [],
   "source": [
    "\n",
    "def even_numbers(lst):\n",
    "    evens = []\n",
    "    for num in lst:\n",
    "        if num % 2 == 0:\n",
    "            evens.append(num)\n",
    "    return evens\n"
   ]
  },
  {
   "cell_type": "markdown",
   "id": "0ce9a7bd",
   "metadata": {},
   "source": [
    "### 11. Write a Python function to check whether a number is perfect or not."
   ]
  },
  {
   "cell_type": "code",
   "execution_count": null,
   "id": "8e06cda7",
   "metadata": {},
   "outputs": [],
   "source": [
    "\n",
    "def is_perfect(n):\n",
    "    sum_divisors = 0\n",
    "    for i in range(1, n):\n",
    "        if n % i == 0:\n",
    "            sum_divisors += i\n",
    "    return sum_divisors == n\n"
   ]
  },
  {
   "cell_type": "markdown",
   "id": "8c8d480c",
   "metadata": {},
   "source": [
    "### 12. Write a Python function to check whether a string is a palindrome or not."
   ]
  },
  {
   "cell_type": "code",
   "execution_count": null,
   "id": "5673d8f0",
   "metadata": {},
   "outputs": [],
   "source": [
    "\n",
    "def is_palindrome(s):\n",
    "    reversed_s = \"\"\n",
    "    for char in s:\n",
    "        reversed_s = char + reversed_s\n",
    "    return s == reversed_s\n"
   ]
  }
 ],
 "metadata": {
  "kernelspec": {
   "display_name": "Python 3 (ipykernel)",
   "language": "python",
   "name": "python3"
  },
  "language_info": {
   "codemirror_mode": {
    "name": "ipython",
    "version": 3
   },
   "file_extension": ".py",
   "mimetype": "text/x-python",
   "name": "python",
   "nbconvert_exporter": "python",
   "pygments_lexer": "ipython3",
   "version": "3.12.7"
  }
 },
 "nbformat": 4,
 "nbformat_minor": 5
}
