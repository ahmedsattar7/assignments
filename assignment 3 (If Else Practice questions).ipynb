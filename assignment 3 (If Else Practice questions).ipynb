{
 "cells": [
  {
   "cell_type": "markdown",
   "id": "cb4dda53-b43c-4a88-914f-05d58a1b4d35",
   "metadata": {},
   "source": [
    "# A - Discounts and Pricing"
   ]
  },
  {
   "cell_type": "markdown",
   "id": "7b9f25b7-f88e-46fe-9562-9e7b10605e81",
   "metadata": {},
   "source": [
    "# 1: Check Discount Eligibility"
   ]
  },
  {
   "cell_type": "code",
   "execution_count": null,
   "id": "f93f0602",
   "metadata": {},
   "outputs": [],
   "source": [
    "total_purchase = float(input(\"Enter total purchase amount: \"))\n",
    "if total_purchase > 100:\n",
    "    final_price = total_purchase * 0.9\n",
    "else:\n",
    "    final_price = total_purchase\n",
    "print(\"Final price:\", final_price)\n",
    "    "
   ]
  },
  {
   "cell_type": "markdown",
   "id": "21894b07-30d5-47d5-b1b6-4a27930d1616",
   "metadata": {},
   "source": [
    "# 2: Calculate Bulk Discount"
   ]
  },
  {
   "cell_type": "code",
   "execution_count": null,
   "id": "953238b9",
   "metadata": {},
   "outputs": [],
   "source": [
    "total_items = int(input(\"Enter total number of items: \"))\n",
    "total_price = float(input(\"Enter total price: \"))\n",
    "if total_items > 5:\n",
    "    final_price = total_price * 0.85\n",
    "else:\n",
    "    final_price = total_price\n",
    "print(\"Final price:\", final_price)\n",
    "    "
   ]
  },
  {
   "cell_type": "markdown",
   "id": "5b075d0a-e6fe-4cca-bece-f1b6d6275fb8",
   "metadata": {},
   "source": [
    "# 3: Membership Discount"
   ]
  },
  {
   "cell_type": "code",
   "execution_count": null,
   "id": "53e3a0ff",
   "metadata": {},
   "outputs": [],
   "source": [
    "is_member = input(\"Are you a member? (yes/no): \").lower() == 'yes'\n",
    "total_price = float(input(\"Enter total price: \"))\n",
    "if is_member:\n",
    "    final_price = total_price * 0.8\n",
    "else:\n",
    "    final_price = total_price * 0.95\n",
    "print(\"Final price:\", final_price)\n",
    "    "
   ]
  },
  {
   "cell_type": "markdown",
   "id": "c5afc7d7-d1b3-4b9c-a5f5-e9b681a2a8dc",
   "metadata": {},
   "source": [
    "# 4: Seasonal Sale"
   ]
  },
  {
   "cell_type": "code",
   "execution_count": null,
   "id": "06bc5fca",
   "metadata": {},
   "outputs": [],
   "source": [
    "is_holiday = input(\"Is today a holiday? (yes/no): \").lower() == 'yes'\n",
    "total_price = float(input(\"Enter total price: \"))\n",
    "if is_holiday:\n",
    "    final_price = total_price * 0.75\n",
    "else:\n",
    "    final_price = total_price * 0.9\n",
    "print(\"Final price:\", final_price)\n",
    "    "
   ]
  },
  {
   "cell_type": "markdown",
   "id": "60fd3103-f0e9-4171-95bf-a050d0a2568d",
   "metadata": {},
   "source": [
    "# 5: Buy-One-Get-One-Free"
   ]
  },
  {
   "cell_type": "code",
   "execution_count": null,
   "id": "6713671a",
   "metadata": {},
   "outputs": [],
   "source": [
    "total_items = int(input(\"Enter total number of items: \"))\n",
    "if total_items % 2 == 0:\n",
    "    items_to_pay_for = total_items // 2\n",
    "else:\n",
    "    items_to_pay_for = total_items\n",
    "print(\"Items to pay for:\", items_to_pay_for)\n",
    "    "
   ]
  },
  {
   "cell_type": "markdown",
   "id": "db1fc565-1afc-40da-b0c8-f82b7a03b123",
   "metadata": {},
   "source": [
    "# B - Tax Calculations"
   ]
  },
  {
   "cell_type": "markdown",
   "id": "a50bfba9-3090-4e39-998b-d8542cb2e1d7",
   "metadata": {},
   "source": [
    "# 6: Sales Tax"
   ]
  },
  {
   "cell_type": "code",
   "execution_count": null,
   "id": "b25a1371",
   "metadata": {},
   "outputs": [],
   "source": [
    "price = float(input(\"Enter price of the item: \"))\n",
    "if price > 500:\n",
    "    total_price = price * 1.15\n",
    "else:\n",
    "    total_price = price * 1.08\n",
    "print(\"Total price after tax:\", total_price)\n",
    "    "
   ]
  },
  {
   "cell_type": "markdown",
   "id": "1f51f856-ecb6-4d1c-805f-197f446a3797",
   "metadata": {},
   "source": [
    "# 7: Income Tax"
   ]
  },
  {
   "cell_type": "code",
   "execution_count": null,
   "id": "d8c195be",
   "metadata": {},
   "outputs": [],
   "source": [
    "income = float(input(\"Enter annual income: \"))\n",
    "if income > 50000:\n",
    "    tax = income * 0.2\n",
    "else:\n",
    "    tax = income * 0.1\n",
    "print(\"Tax amount:\", tax)\n",
    "    "
   ]
  },
  {
   "cell_type": "markdown",
   "id": "a9652cb8-fed6-40cb-b736-69f5b91b4fff",
   "metadata": {},
   "source": [
    "# 8: Tax Bracket"
   ]
  },
  {
   "cell_type": "code",
   "execution_count": null,
   "id": "194cbca0",
   "metadata": {},
   "outputs": [],
   "source": [
    "income = float(input(\"Enter annual income: \"))\n",
    "if income < 30000:\n",
    "    tax_bracket = \"Low Tax\"\n",
    "elif income < 100000:\n",
    "    tax_bracket = \"Medium Tax\"\n",
    "else:\n",
    "    tax_bracket = \"High Tax\"\n",
    "print(\"Tax Bracket:\", tax_bracket)\n",
    "    "
   ]
  },
  {
   "cell_type": "markdown",
   "id": "ba10ac9a-258d-421b-aaf9-0e3f4b72a3ad",
   "metadata": {},
   "source": [
    "# 9: VAT Calculation"
   ]
  },
  {
   "cell_type": "code",
   "execution_count": null,
   "id": "3c0a782c",
   "metadata": {},
   "outputs": [],
   "source": [
    "is_essential = input(\"Is the item essential? (yes/no): \").lower() == 'yes'\n",
    "price = float(input(\"Enter price of the item: \"))\n",
    "if is_essential:\n",
    "    final_price = price * 1.05\n",
    "else:\n",
    "    final_price = price * 1.12\n",
    "print(\"Final price:\", final_price)\n",
    "    "
   ]
  },
  {
   "cell_type": "markdown",
   "id": "5c45c2a6-c089-46a2-a99b-6b65c132c15a",
   "metadata": {},
   "source": [
    "# 10: Tax-Free Day"
   ]
  },
  {
   "cell_type": "code",
   "execution_count": null,
   "id": "fa2c678d",
   "metadata": {},
   "outputs": [],
   "source": [
    "tax_free = input(\"Is today a tax-free day? (yes/no): \").lower() == 'yes'\n",
    "price = float(input(\"Enter price of the item: \"))\n",
    "if tax_free:\n",
    "    final_price = price\n",
    "else:\n",
    "    final_price = price * 1.07\n",
    "print(\"Final price:\", final_price)\n",
    "    "
   ]
  },
  {
   "cell_type": "markdown",
   "id": "8ea6f6ce-ba74-4ef6-9c39-e921fb96b63a",
   "metadata": {},
   "source": [
    "# C - Shopping and Billing"
   ]
  },
  {
   "cell_type": "markdown",
   "id": "0cb35376-bdd3-4e32-b017-b92adac19578",
   "metadata": {},
   "source": [
    "# 11: Free Shipping"
   ]
  },
  {
   "cell_type": "code",
   "execution_count": null,
   "id": "8197153a",
   "metadata": {},
   "outputs": [],
   "source": [
    "total_purchase = float(input(\"Enter total purchase amount: \"))\n",
    "if total_purchase > 50:\n",
    "    shipping = 0\n",
    "else:\n",
    "    shipping = 5\n",
    "final_amount = total_purchase + shipping\n",
    "print(\"Total amount including shipping:\", final_amount)\n",
    "    "
   ]
  },
  {
   "cell_type": "markdown",
   "id": "85725369-c5eb-4e8c-81ef-d988d68e4ffd",
   "metadata": {},
   "source": [
    "# 12: Discount Code"
   ]
  },
  {
   "cell_type": "code",
   "execution_count": null,
   "id": "e54c71c5",
   "metadata": {},
   "outputs": [],
   "source": [
    "total_price = float(input(\"Enter total price: \"))\n",
    "discount_code = input(\"Enter discount code: \")\n",
    "if discount_code == \"DISCOUNT10\":\n",
    "    final_price = total_price * 0.9\n",
    "else:\n",
    "    final_price = total_price\n",
    "print(\"Final price:\", final_price)\n",
    "    "
   ]
  },
  {
   "cell_type": "markdown",
   "id": "b042103d-bcf2-4b32-99aa-fa533ce73ff3",
   "metadata": {},
   "source": [
    "# 13: Tiered Discounts"
   ]
  },
  {
   "cell_type": "code",
   "execution_count": null,
   "id": "d74638f0",
   "metadata": {},
   "outputs": [],
   "source": [
    "total_price = float(input(\"Enter total price: \"))\n",
    "if total_price > 100:\n",
    "    final_price = total_price * 0.8\n",
    "elif total_price > 50:\n",
    "    final_price = total_price * 0.9\n",
    "else:\n",
    "    final_price = total_price\n",
    "print(\"Final price:\", final_price)\n",
    "    "
   ]
  },
  {
   "cell_type": "markdown",
   "id": "090fde28-67c8-4b57-b9a0-a44764113f8b",
   "metadata": {},
   "source": [
    "# 14: Minimum Purchase Requirement"
   ]
  },
  {
   "cell_type": "code",
   "execution_count": null,
   "id": "cd446e1d",
   "metadata": {},
   "outputs": [],
   "source": [
    "total_amount = float(input(\"Enter total amount: \"))\n",
    "if total_amount < 20:\n",
    "    print(\"Minimum purchase of $20 is required.\")\n",
    "else:\n",
    "    print(\"Total amount:\", total_amount)\n",
    "    "
   ]
  },
  {
   "cell_type": "markdown",
   "id": "7d24e9c6-65da-457d-ba47-5e883f5ca466",
   "metadata": {},
   "source": [
    "# 15: Loyalty Points"
   ]
  },
  {
   "cell_type": "code",
   "execution_count": null,
   "id": "0ce042d1",
   "metadata": {},
   "outputs": [],
   "source": [
    "is_loyal = input(\"Are you a loyal member? (yes/no): \").lower() == 'yes'\n",
    "points = int(input(\"Enter points earned: \"))\n",
    "if is_loyal:\n",
    "    points *= 2\n",
    "print(\"Loyalty points:\", points)\n",
    "    "
   ]
  },
  {
   "cell_type": "markdown",
   "id": "567b3657-04dc-4987-a469-468293b397d6",
   "metadata": {},
   "source": [
    "# D - Travel and Tickets"
   ]
  },
  {
   "cell_type": "markdown",
   "id": "56b55ab8-68a6-4a57-a6ad-855262a9f9d8",
   "metadata": {},
   "source": [
    "# 16: Travel Discount"
   ]
  },
  {
   "cell_type": "code",
   "execution_count": null,
   "id": "a82fba8a",
   "metadata": {},
   "outputs": [],
   "source": [
    "distance = float(input(\"Enter travel distance in miles: \"))\n",
    "ticket_price = float(input(\"Enter ticket price: \"))\n",
    "if distance > 500:\n",
    "    final_price = ticket_price * 0.8\n",
    "else:\n",
    "    final_price = ticket_price\n",
    "print(\"Final ticket price:\", final_price)\n",
    "    "
   ]
  },
  {
   "cell_type": "markdown",
   "id": "5797ace2-6b7e-4e53-8f16-b1b2804fdc4a",
   "metadata": {},
   "source": [
    "# 17: Child or Senior Discount"
   ]
  },
  {
   "cell_type": "code",
   "execution_count": null,
   "id": "1a1179c1",
   "metadata": {},
   "outputs": [],
   "source": [
    "age = int(input(\"Enter passenger age: \"))\n",
    "ticket_price = float(input(\"Enter ticket price: \"))\n",
    "if age < 12 or age > 60:\n",
    "    final_price = ticket_price * 0.85\n",
    "else:\n",
    "    final_price = ticket_price\n",
    "print(\"Final ticket price:\", final_price)\n",
    "    "
   ]
  },
  {
   "cell_type": "markdown",
   "id": "bedc9ec2-295a-4b11-845f-5c356f845c01",
   "metadata": {},
   "source": [
    "# 18: Ticket Type Pricing"
   ]
  },
  {
   "cell_type": "code",
   "execution_count": null,
   "id": "54f1684b",
   "metadata": {},
   "outputs": [],
   "source": [
    "is_weekend = input(\"Is the ticket for a weekend? (yes/no): \").lower() == 'yes'\n",
    "ticket_price = float(input(\"Enter ticket price: \"))\n",
    "if is_weekend:\n",
    "    final_price = ticket_price * 1.1\n",
    "else:\n",
    "    final_price = ticket_price\n",
    "print(\"Final ticket price:\", final_price)\n",
    "    "
   ]
  },
  {
   "cell_type": "markdown",
   "id": "dd11b0fc-6842-4d86-a23a-f617c36910bc",
   "metadata": {},
   "source": [
    "# 19: Baggage Fee"
   ]
  },
  {
   "cell_type": "code",
   "execution_count": null,
   "id": "acfc8058",
   "metadata": {},
   "outputs": [],
   "source": [
    "baggage_weight = float(input(\"Enter baggage weight in kg: \"))\n",
    "if baggage_weight > 20:\n",
    "    extra_fee = (baggage_weight - 20) * 10\n",
    "else:\n",
    "    extra_fee = 0\n",
    "print(\"Baggage fee:\", extra_fee)\n",
    "    "
   ]
  },
  {
   "cell_type": "markdown",
   "id": "ba45a1e1-2d53-471d-975b-4183dcc7a13b",
   "metadata": {},
   "source": [
    "# 20: Early Bird Discount"
   ]
  },
  {
   "cell_type": "code",
   "execution_count": null,
   "id": "1172194f",
   "metadata": {},
   "outputs": [],
   "source": [
    "days_in_advance = int(input(\"Enter days in advance: \"))\n",
    "ticket_price = float(input(\"Enter ticket price: \"))\n",
    "if days_in_advance > 30:\n",
    "    final_price = ticket_price * 0.9\n",
    "else:\n",
    "    final_price = ticket_price\n",
    "print(\"Final ticket price:\", final_price)\n",
    "    "
   ]
  },
  {
   "cell_type": "markdown",
   "id": "d7d01afb-2d78-419f-a4c8-14679eff2fed",
   "metadata": {},
   "source": [
    "# E - Grades and Performance"
   ]
  },
  {
   "cell_type": "markdown",
   "id": "db496923-a9ac-4c29-b254-f0416b14c6c9",
   "metadata": {},
   "source": [
    "# 21: Pass or Fail"
   ]
  },
  {
   "cell_type": "code",
   "execution_count": null,
   "id": "09561582",
   "metadata": {},
   "outputs": [],
   "source": [
    "score = float(input(\"Enter student score: \"))\n",
    "if score >= 40:\n",
    "    print(\"Pass\")\n",
    "else:\n",
    "    print(\"Fail\")\n",
    "    "
   ]
  },
  {
   "cell_type": "markdown",
   "id": "05a49690-e093-492e-a7e2-8ad3e90bffba",
   "metadata": {},
   "source": [
    "# 22: Grade Assignment"
   ]
  },
  {
   "cell_type": "code",
   "execution_count": null,
   "id": "46b09bfe",
   "metadata": {},
   "outputs": [],
   "source": [
    "score = float(input(\"Enter student score: \"))\n",
    "if score >= 90:\n",
    "    grade = \"A\"\n",
    "elif score >= 75:\n",
    "    grade = \"B\"\n",
    "elif score >= 50:\n",
    "    grade = \"C\"\n",
    "else:\n",
    "    grade = \"F\"\n",
    "print(\"Grade:\", grade)\n",
    "    "
   ]
  },
  {
   "cell_type": "markdown",
   "id": "60be7351-514c-429c-943a-92825b0106a0",
   "metadata": {},
   "source": [
    "# 23: Bonus Marks"
   ]
  },
  {
   "cell_type": "code",
   "execution_count": null,
   "id": "934d4fac",
   "metadata": {},
   "outputs": [],
   "source": [
    "assignments_completed = input(\"Did the student complete all assignments? (yes/no): \").lower() == 'yes'\n",
    "score = float(input(\"Enter student score: \"))\n",
    "if assignments_completed:\n",
    "    score += 5\n",
    "print(\"Final score:\", score)\n",
    "    "
   ]
  },
  {
   "cell_type": "markdown",
   "id": "6705120c-a0e8-4532-b445-10a3c4fe91f9",
   "metadata": {},
   "source": [
    "# 24: Attendance Eligibility"
   ]
  },
  {
   "cell_type": "code",
   "execution_count": null,
   "id": "c9e80ff7",
   "metadata": {},
   "outputs": [],
   "source": [
    "attendance = float(input(\"Enter attendance percentage: \"))\n",
    "if attendance >= 75:\n",
    "    print(\"Eligible to take the exam\")\n",
    "else:\n",
    "    print(\"Not eligible to take the exam\")\n",
    "    "
   ]
  },
  {
   "cell_type": "markdown",
   "id": "d78f409f-b338-414c-a233-147395e3b0a4",
   "metadata": {},
   "source": [
    "# 25: Scholarship Eligibility"
   ]
  },
  {
   "cell_type": "code",
   "execution_count": null,
   "id": "83942b25",
   "metadata": {},
   "outputs": [],
   "source": [
    "grade = input(\"Enter student grade: \")\n",
    "annual_income = float(input(\"Enter annual family income: \"))\n",
    "if grade == \"A\" and annual_income < 30000:\n",
    "    print(\"Eligible for scholarship\")\n",
    "else:\n",
    "    print(\"Not eligible for scholarship\")\n",
    "    "
   ]
  }
 ],
 "metadata": {
  "kernelspec": {
   "display_name": "Python 3 (ipykernel)",
   "language": "python",
   "name": "python3"
  },
  "language_info": {
   "codemirror_mode": {
    "name": "ipython",
    "version": 3
   },
   "file_extension": ".py",
   "mimetype": "text/x-python",
   "name": "python",
   "nbconvert_exporter": "python",
   "pygments_lexer": "ipython3",
   "version": "3.12.7"
  }
 },
 "nbformat": 4,
 "nbformat_minor": 5
}
