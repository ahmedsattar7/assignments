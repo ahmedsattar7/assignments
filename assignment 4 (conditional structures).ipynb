{
 "cells": [
  {
   "cell_type": "markdown",
   "id": "219c1e93",
   "metadata": {},
   "source": [
    "# Conditional Structures"
   ]
  },
  {
   "cell_type": "markdown",
   "id": "6e2ba3c7",
   "metadata": {},
   "source": [
    "## 1. Check if a number is even or odd"
   ]
  },
  {
   "cell_type": "code",
   "execution_count": null,
   "id": "c5989516",
   "metadata": {},
   "outputs": [],
   "source": [
    "number = int(input(\"Enter a number: \"))\n",
    "if number % 2 == 0:\n",
    "    print(\"The number is even.\")\n",
    "else:\n",
    "    print(\"The number is odd.\")"
   ]
  },
  {
   "cell_type": "markdown",
   "id": "cbfc158e",
   "metadata": {},
   "source": [
    "## 2. Check voting eligibility based on age"
   ]
  },
  {
   "cell_type": "code",
   "execution_count": null,
   "id": "e2540e1f",
   "metadata": {},
   "outputs": [],
   "source": [
    "age = int(input(\"Enter your age: \"))\n",
    "if age >= 18:\n",
    "    print(\"You are eligible to vote.\")\n",
    "else:\n",
    "    print(\"You are not eligible to vote yet.\")"
   ]
  },
  {
   "cell_type": "markdown",
   "id": "ef7524b6",
   "metadata": {},
   "source": [
    "## 3. Find the largest of two integers"
   ]
  },
  {
   "cell_type": "code",
   "execution_count": null,
   "id": "966c4507",
   "metadata": {},
   "outputs": [],
   "source": [
    "num1 = int(input(\"Enter the first number: \"))\n",
    "num2 = int(input(\"Enter the second number: \"))\n",
    "if num1 > num2:\n",
    "    print(f\"The larger number is {num1}.\")\n",
    "else:\n",
    "    print(f\"The larger number is {num2}.\")"
   ]
  },
  {
   "cell_type": "markdown",
   "id": "a1e6b25c",
   "metadata": {},
   "source": [
    "## 4. Check if a number is positive, negative, or zero"
   ]
  },
  {
   "cell_type": "code",
   "execution_count": null,
   "id": "5defd882",
   "metadata": {},
   "outputs": [],
   "source": [
    "number = int(input(\"Enter a number: \"))\n",
    "if number > 0:\n",
    "    print(\"Positive\")\n",
    "elif number < 0:\n",
    "    print(\"Negative\")\n",
    "else:\n",
    "    print(\"Zero\")"
   ]
  },
  {
   "cell_type": "markdown",
   "id": "f4e6338d",
   "metadata": {},
   "source": [
    "## 5. Determine the age group based on age input"
   ]
  },
  {
   "cell_type": "code",
   "execution_count": null,
   "id": "ff4e4c7b",
   "metadata": {},
   "outputs": [],
   "source": [
    "age = int(input(\"Enter your age: \"))\n",
    "if 0 <= age <= 12:\n",
    "    print(\"Child\")\n",
    "elif 13 <= age <= 19:\n",
    "    print(\"Teenager\")\n",
    "elif 20 <= age <= 59:\n",
    "    print(\"Adult\")\n",
    "elif age >= 60:\n",
    "    print(\"Senior Citizen\")\n",
    "else:\n",
    "    print(\"Invalid age entered.\")"
   ]
  },
  {
   "cell_type": "markdown",
   "id": "56bab741",
   "metadata": {},
   "source": [
    "## 6. Map a number to a day of the week"
   ]
  },
  {
   "cell_type": "code",
   "execution_count": null,
   "id": "4dd514db",
   "metadata": {},
   "outputs": [],
   "source": [
    "day = int(input(\"Enter a number (1-7): \"))\n",
    "if day == 1:\n",
    "    print(\"Sunday\")\n",
    "elif day == 2:\n",
    "    print(\"Monday\")\n",
    "elif day == 3:\n",
    "    print(\"Tuesday\")\n",
    "elif day == 4:\n",
    "    print(\"Wednesday\")\n",
    "elif day == 5:\n",
    "    print(\"Thursday\")\n",
    "elif day == 6:\n",
    "    print(\"Friday\")\n",
    "elif day == 7:\n",
    "    print(\"Saturday\")\n",
    "else:\n",
    "    print(\"Error: Number not between 1 and 7.\")"
   ]
  },
  {
   "cell_type": "markdown",
   "id": "006c7cac",
   "metadata": {},
   "source": [
    "## 7. Calculate BMI and classify it"
   ]
  },
  {
   "cell_type": "code",
   "execution_count": null,
   "id": "fa0e10d3",
   "metadata": {},
   "outputs": [],
   "source": [
    "weight = float(input(\"Enter your weight (in kg): \"))\n",
    "height = float(input(\"Enter your height (in meters): \"))\n",
    "bmi = weight / (height * height)\n",
    "if bmi < 18.5:\n",
    "    print(\"Underweight\")\n",
    "elif 18.5 <= bmi <= 24.9:\n",
    "    print(\"Normal weight\")\n",
    "elif 25 <= bmi <= 29.9:\n",
    "    print(\"Overweight\")\n",
    "else:\n",
    "    print(\"Obesity\")"
   ]
  },
  {
   "cell_type": "markdown",
   "id": "335c11ec",
   "metadata": {},
   "source": [
    "## 8. Calculate average and determine grade"
   ]
  },
  {
   "cell_type": "code",
   "execution_count": null,
   "id": "ad78210c",
   "metadata": {},
   "outputs": [],
   "source": [
    "mark1 = float(input(\"Enter marks for subject 1: \"))\n",
    "mark2 = float(input(\"Enter marks for subject 2: \"))\n",
    "mark3 = float(input(\"Enter marks for subject 3: \"))\n",
    "average = (mark1 + mark2 + mark3) / 3\n",
    "if 90 <= average <= 100:\n",
    "    print(\"Grade: A\")\n",
    "elif 80 <= average < 90:\n",
    "    print(\"Grade: B\")\n",
    "elif 70 <= average < 80:\n",
    "    print(\"Grade: C\")\n",
    "elif 60 <= average < 70:\n",
    "    print(\"Grade: D\")\n",
    "else:\n",
    "    print(\"Grade: F\")"
   ]
  },
  {
   "cell_type": "markdown",
   "id": "de08d0ab",
   "metadata": {},
   "source": [
    "## 9. Solve quadratic equation and classify roots"
   ]
  },
  {
   "cell_type": "code",
   "execution_count": null,
   "id": "669e9821",
   "metadata": {},
   "outputs": [],
   "source": [
    "a = float(input(\"Enter coefficient a: \"))\n",
    "b = float(input(\"Enter coefficient b: \"))\n",
    "c = float(input(\"Enter coefficient c: \"))\n",
    "discriminant = b * b - 4 * a * c\n",
    "if discriminant > 0:\n",
    "    root1 = (-b + (discriminant ** 0.5)) / (2 * a)\n",
    "    root2 = (-b - (discriminant ** 0.5)) / (2 * a)\n",
    "    print(f\"The equation has two real roots: {root1} and {root2}\")\n",
    "elif discriminant == 0:\n",
    "    root = -b / (2 * a)\n",
    "    print(f\"The equation has one real root: {root}\")\n",
    "else:\n",
    "    real_part = -b / (2 * a)\n",
    "    imaginary_part = ((-discriminant) ** 0.5) / (2 * a)\n",
    "    print(f\"The equation has two complex roots: {real_part} ± {imaginary_part}i\")"
   ]
  },
  {
   "cell_type": "markdown",
   "id": "5eb9abad",
   "metadata": {},
   "source": [
    "## 10. Sort three numbers in ascending order"
   ]
  },
  {
   "cell_type": "code",
   "execution_count": null,
   "id": "6eab5b88",
   "metadata": {},
   "outputs": [],
   "source": [
    "num1 = int(input(\"Enter the first number: \"))\n",
    "num2 = int(input(\"Enter the second number: \"))\n",
    "num3 = int(input(\"Enter the third number: \"))\n",
    "if num1 > num2:\n",
    "    num1, num2 = num2, num1\n",
    "if num2 > num3:\n",
    "    num2, num3 = num3, num2\n",
    "if num1 > num2:\n",
    "    num1, num2 = num2, num1\n",
    "print(f\"The sorted numbers are: {num1}, {num2}, {num3}\")"
   ]
  },
  {
   "cell_type": "markdown",
   "id": "82fa98a1",
   "metadata": {},
   "source": [
    "## 11. Find the largest of three integers"
   ]
  },
  {
   "cell_type": "code",
   "execution_count": null,
   "id": "18ca53ef",
   "metadata": {},
   "outputs": [],
   "source": [
    "num1 = int(input(\"Enter the first number: \"))\n",
    "num2 = int(input(\"Enter the second number: \"))\n",
    "num3 = int(input(\"Enter the third number: \"))\n",
    "largest = num1\n",
    "if num2 > largest:\n",
    "    largest = num2\n",
    "if num3 > largest:\n",
    "    largest = num3\n",
    "print(f\"The largest number is: {largest}\")"
   ]
  },
  {
   "cell_type": "markdown",
   "id": "754c5ead",
   "metadata": {},
   "source": [
    "## 12. Determine if a character is a vowel or consonant"
   ]
  },
  {
   "cell_type": "code",
   "execution_count": null,
   "id": "775d7a1a",
   "metadata": {},
   "outputs": [],
   "source": [
    "char = input(\"Enter a character: \").lower()\n",
    "if char in 'aeiou':\n",
    "    print(\"The character is a vowel.\")\n",
    "else:\n",
    "    print(\"The character is a consonant.\")"
   ]
  },
  {
   "cell_type": "markdown",
   "id": "8b65c1ec",
   "metadata": {},
   "source": [
    "## 13. Check if a year is a leap year"
   ]
  },
  {
   "cell_type": "code",
   "execution_count": null,
   "id": "02292389",
   "metadata": {},
   "outputs": [],
   "source": [
    "year = int(input(\"Enter a year: \"))\n",
    "if year % 4 == 0:\n",
    "    if year % 100 == 0:\n",
    "        if year % 400 == 0:\n",
    "            print(f\"{year} is a Leap Year.\")\n",
    "        else:\n",
    "            print(f\"{year} is NOT a Leap Year.\")\n",
    "    else:\n",
    "        print(f\"{year} is a Leap Year.\")\n",
    "else:\n",
    "    print(f\"{year} is NOT a Leap Year.\")"
   ]
  },
  {
   "cell_type": "markdown",
   "id": "ae8b3069",
   "metadata": {},
   "source": [
    "## 14. Calculate telephone bill based on calls"
   ]
  },
  {
   "cell_type": "code",
   "execution_count": null,
   "id": "0f99c88e",
   "metadata": {},
   "outputs": [],
   "source": [
    "calls = int(input(\"Enter the number of calls: \"))\n",
    "bill = 200\n",
    "if calls > 100:\n",
    "    if calls <= 150:\n",
    "        bill += (calls - 100) * 0.60\n",
    "    elif calls <= 200:\n",
    "        bill += 50 * 0.60 + (calls - 150) * 0.50\n",
    "    else:\n",
    "        bill += 50 * 0.60 + 50 * 0.50 + (calls - 200) * 0.40\n",
    "print(f\"The total telephone bill is: Rs. {bill}\")"
   ]
  }
 ],
 "metadata": {
  "kernelspec": {
   "display_name": "Python 3 (ipykernel)",
   "language": "python",
   "name": "python3"
  },
  "language_info": {
   "codemirror_mode": {
    "name": "ipython",
    "version": 3
   },
   "file_extension": ".py",
   "mimetype": "text/x-python",
   "name": "python",
   "nbconvert_exporter": "python",
   "pygments_lexer": "ipython3",
   "version": "3.12.7"
  }
 },
 "nbformat": 4,
 "nbformat_minor": 5
}
